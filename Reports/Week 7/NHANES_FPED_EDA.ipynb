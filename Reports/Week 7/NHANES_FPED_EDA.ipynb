{
 "cells": [
  {
   "cell_type": "markdown",
   "metadata": {},
   "source": [
    "**Objectives**\n",
    "\n",
    "The objectives of the project have been reframed, with new reasearch questions coming out from a meeting with other project collaborators. One of the objectives that was derived from this meeting is to analyze what is being consumed with seafood using the FPED derived food components. This new NHANES dataset (NHANES_Full) provides additional columns that break down the food items into categories as laid out by FPED, by using recipes to break down the food item. This research question is being explored here:\n",
    "\n",
    "When seafood is on the plate, what else is part of the meal?\n",
    "Drawing on text analysis and FPED categories\n",
    " \n",
    "Here is a link to a dropbox file with the full NHANES dataset including all FPED variables https://www.dropbox.com/s/98vd50tqedqsnzb/nhanes_full.csv?dl=0\n",
    " \n",
    "A quick note about the FPED Table 2 variable names are not exactly what is in the database USDAs provides. The food equivalents in the NHANES file all start with “DR1I_”. For example:\n",
    "DR1I_PF_x = protein foods \n",
    " DR1I_G_x = grains\n",
    "DR1I_D_x = dairy\n",
    "DR1I_V_x = vegetables, etc.\n",
    " \n",
    "A few more variables that will be helpful:\n",
    " \n",
    "eathome splits out “food at home ” (mostly purchased at retail) from “food away from home” (mostly restaurants). (eathome = 1 is “food at home ”;  eathome = 0 is “food away from home ”)\n",
    "Any analysis we do should be split by home/away food sources since people generally eat healthier when they cook at home.\n",
    " \n",
    "DR1.030Z_2 combines eating occasions listed in English and Spanish together (see attached explanation). This will let us look at breakfast, lunch, dinner, snacks, etc.\n",
    " \n",
    "DR1I_PF_SEAFD_TOT = DR1I_PF_SEAFD_LOW + DR1I_PF_SEAFD_HIGH (or the sum of high omega 3 and low omega 3 fish) If you want to know if a dish has seafood in it, you would use this variable: DR1I_PF_SEAFD_TOT   "
   ]
  },
  {
   "cell_type": "code",
   "execution_count": 10,
   "metadata": {},
   "outputs": [],
   "source": [
    "import pandas as pd\n",
    "import re\n",
    "\n",
    "#Read the structured dataframe\n",
    "nhanes_full = pd.read_pickle('../../Data/nhanes_full_filtered.pkl')\n",
    "nhanes_full_cols = nhanes_full.columns.values.tolist()\n",
    "\n",
    "\n",
    "#Create a list of all the FPED columns, removing the \"DR1I_\" prefix. \n",
    "fped_cols = []\n",
    "for i in range(len(nhanes_full_cols)):\n",
    "    if (re.match(r\"DR1I_\", nhanes_full_cols[i])):\n",
    "        fped_cols.append(re.findall(r\"DR1I_(.*)\", nhanes_full_cols[i])[0])\n",
    "        \n",
    "fped_cols_tot = []\n",
    "fped_cols_cmp = []\n",
    "for i in range(len(fped_cols)):\n",
    "    if (re.search(r\"_TOT\", fped_cols[i])):\n",
    "        fped_cols_tot.append(fped_cols[i])\n",
    "    else: fped_cols_cmp.append(fped_cols[i])\n",
    "\n",
    "\n",
    "#Remove the \"DR1I_\" prefix for simplification\n",
    "nhanes_full.columns = nhanes_full.columns.str.replace('^DR1I_', '')"
   ]
  },
  {
   "cell_type": "markdown",
   "metadata": {},
   "source": [
    "The following variables combine the components into total fruits, vegetables, meats, etc.\n",
    "\n",
    "Total Fruit\n",
    "(F_TOTAL)\n",
    "Total intact fruits (whole or cut) and fruit juices (cup eq.)\n",
    "\n",
    "Total Vegetables\n",
    "(V_TOTAL)\n",
    "Total dark green, red and orange, starchy, and other vegetables; excludes legumes (cup eq.)\n",
    "\n",
    "Total Red and Orange Vegetables\n",
    "(V_REDOR_TOTAL)*\n",
    "Total red and orange vegetables (tomatoes and tomato products + other red and orange vegetables) (cup eq.)\n",
    "\n",
    "Total Starchy Vegetables\n",
    "(V_STARCHY_TOTAL)*\n",
    "Total starchy vegetables (white potatoes + other starchy vegetables) (cup eq.)\n",
    "\n",
    "Total Grains\n",
    "(G_TOTAL)\n",
    "Total whole and refined grains (oz. eq.)\n",
    "\n",
    "Total Protein Foods\n",
    "(PF_TOTAL)*\n",
    "Total meat, poultry, organ meat, cured meat, seafood, eggs, soy, and nuts and seeds; excludes legumes (oz. eq.)\n",
    "\n",
    "Total Meat, Poultry, and Seafood\n",
    "(PF_MPS_TOTAL)\n",
    "Total of meat, poultry, seafood, organ meat, and cured meat (oz. eq.)\n",
    "\n",
    "Total Dairy\n",
    "(D_TOTAL)\n",
    "Total milk, yogurt, cheese, and whey. For some foods, the total dairy values could be higher than the sum of D_MILK, D_YOGURT, and D_CHEESE because the Miscellaneous Dairy component composed of whey is not included in FPED as a separate variable. (cup eq.)\n",
    "\n",
    "\n",
    "The following variables are not in the FPED and seem to have been computed by post process:\n",
    "PF_MEAT_TOT\n",
    "PF_SEAFD_TOT\n",
    "\n",
    "\n",
    "These total variables can be grouped as follows, in terms of analysis relevance and dietary hierarchy. The following Total variables will capture fruits, vegetables, grains, diary, all other protein sources such as meats, legumes, and seafood:\n",
    "\n",
    "F_TOTAL\n",
    "V_TOTAL\n",
    "G_TOTAL\n",
    "D_TOTAL\n",
    "PF_MEAT_TOT\n",
    "PF_SEAFD_TOT\n",
    "PF_OTHER_TOT = PF_TOTAL - PF_MEAT_TOT - PF_SEAFD_TOT\n",
    "\n",
    "Find the rest of the protein content, other than meats and seafood. This should include items such as legumes, eggs, etc. This can be obtained by PF_TOTAL - PF_MEAT_TOT - PF_SEAFD_TOT.\n",
    "\n",
    "The other total variables break these down into more details. One area of interest may be breaking up the starchy vegetables from the rest. But this can also be done at the component level."
   ]
  },
  {
   "cell_type": "code",
   "execution_count": 14,
   "metadata": {},
   "outputs": [
    {
     "data": {
      "text/plain": [
       "<matplotlib.axes._subplots.AxesSubplot at 0x7f9bdc984d60>"
      ]
     },
     "execution_count": 14,
     "metadata": {},
     "output_type": "execute_result"
    },
    {
     "data": {
      "image/png": "[encoded data removed]",
      "text/plain": [
       "<Figure size 432x288 with 1 Axes>"
      ]
     },
     "metadata": {
      "needs_background": "light"
     },
     "output_type": "display_data"
    }
   ],
   "source": [
    "#Create a protein other total item, that excludes meats and seafood. Meant to capture\n",
    "#other protein sources at a higher level\n",
    "nhanes_full['PF_OTHER_TOT'] = nhanes_full['PF_TOTAL'] - nhanes_full['PF_MEAT_TOT'] - nhanes_full['PF_SEAFD_TOT']\n",
    "\n",
    "#Create a list of the hierarchy 1 food components, for a higher level analysis\n",
    "food_cmp_hr1 = [\n",
    "'F_TOTAL',\n",
    "'V_TOTAL',\n",
    "'G_TOTAL',\n",
    "'D_TOTAL',\n",
    "'PF_OTHER_TOT',\n",
    "'PF_MEAT_TOT',\n",
    "'PF_SEAFD_TOT']\n",
    "\n",
    "#Aggregate and plot the hierarchy 1 food components for the whole seafood meal subset\n",
    "nhanes_food_cmp_hr1_sum = nhanes_full[food_cmp_hr1].sum()\n",
    "nhanes_food_cmp_hr1_sum = nhanes_food_cmp_hr1_sum.sort_values(ascending=False)\n",
    "nhanes_food_cmp_hr1_sum.plot.barh(title = 'Food Components Consumed with Seafood', xlabel = 'High Level Component', ylabel = 'Quantity in Grams')"
   ]
  },
  {
   "cell_type": "code",
   "execution_count": 15,
   "metadata": {},
   "outputs": [
    {
     "data": {
      "text/plain": [
       "<matplotlib.axes._subplots.AxesSubplot at 0x7f9bdcab9820>"
      ]
     },
     "execution_count": 15,
     "metadata": {},
     "output_type": "execute_result"
    },
    {
     "data": {
      "image/png": "[encoded data removed]",
      "text/plain": [
       "<Figure size 432x288 with 1 Axes>"
      ]
     },
     "metadata": {
      "needs_background": "light"
     },
     "output_type": "display_data"
    }
   ],
   "source": [
    "#Explore the aggregate of the hierarchy 1 food components within the eat at home vs out groups\n",
    "nhanes_full_grouped = nhanes_full.groupby('eathome')[food_cmp_hr1].sum()\n",
    "nhanes_full_grouped.plot.bar(title = 'Food Components Consumed with Seafood: Home vs Out')"
   ]
  }
 ],
 "metadata": {
  "kernelspec": {
   "display_name": "Python 3",
   "language": "python",
   "name": "python3"
  },
  "language_info": {
   "codemirror_mode": {
    "name": "ipython",
    "version": 3
   },
   "file_extension": ".py",
   "mimetype": "text/x-python",
   "name": "python",
   "nbconvert_exporter": "python",
   "pygments_lexer": "ipython3",
   "version": "3.8.3"
  }
 },
 "nbformat": 4,
 "nbformat_minor": 4
}
