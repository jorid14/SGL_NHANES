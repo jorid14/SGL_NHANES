{
 "cells": [
  {
   "cell_type": "markdown",
   "metadata": {},
   "source": [
    "**Objectives**\n",
    "\n",
    "1. Extract corpora from the food description text from the all the meals that contain seafood. Structure the corpora according the text patterns in the description.\n",
    "    Questions: Is this an acceptable method for the analysis? The text after the comma seems descriptive of the food item, in the context of preparation method.\n",
    "2. Obtain some descriptive statistics from the corpora. Identify potential issues that are relevant to the analysis objectives and address these issues.\n",
    "    (1) Obtain most frequent words from corpora and seek potential issues. For example, should beverages be included? Maybe all caloric beverages (everything except water)?\n",
    "    (2) Explore the item descriptions for each seafood type. The seafood types were extracted from the description category. However, seafood can be part of a dish that already includes sides. For example, there are many examples where the description contains wording like \"seafood with vegetables\", in which case vegetables could be categorized as a side. \n",
    "    (3) Is there any interest in the descriptive food item text beyond the first comma?"
   ]
  },
  {
   "cell_type": "code",
   "execution_count": 16,
   "metadata": {},
   "outputs": [
    {
     "data": {
      "image/png": "[encoded data removed]",
      "text/plain": [
       "<Figure size 432x288 with 1 Axes>"
      ]
     },
     "metadata": {
      "needs_background": "light"
     },
     "output_type": "display_data"
    },
    {
     "data": {
      "text/plain": [
       "<matplotlib.axes._subplots.AxesSubplot at 0x7fceaf30aa60>"
      ]
     },
     "execution_count": 16,
     "metadata": {},
     "output_type": "execute_result"
    }
   ],
   "source": [
    "import pandas as pd\n",
    "import re\n",
    "import nltk\n",
    "\n",
    "\n",
    "#Read filtered dataframe\n",
    "nhanes = pd.read_pickle('../../Data/nhanes_post.pkl')\n",
    "\n",
    "\n",
    "#Obtain dataframe with seafood items\n",
    "seafood_df = nhanes[nhanes['DR1I_PF_SEAFD_TOT'] > 0]\n",
    "#Obtain dataframe with side dishes\n",
    "side_dish_df = nhanes[nhanes['DR1I_PF_SEAFD_TOT'] == 0]\n",
    "\n",
    "\"\"\"\n",
    "Obtain initial test corpus for the whole meal, seafood item only, and side dishes only\n",
    "Obtains the first word in the text description string before a comma, if comma exists.\n",
    "Obtains the whole string in the text description if comma is not present.\n",
    "\"\"\"\n",
    "food_type_cps = nhanes['DESCRIPTION'].apply(lambda x: re.search(r'^([^,])+', x).group(0) if re.search((r','), x) else x)\n",
    "seafood_cps = seafood_df['DESCRIPTION'].apply(lambda x: re.search(r'^([^,])+', x).group(0) if re.search((r','), x) else x)\n",
    "side_dish_cps = side_dish_df['DESCRIPTION'].apply(lambda x: re.search(r'^([^,])+', x).group(0) if re.search((r','), x) else x)\n",
    "\n",
    "#Obtain and plot frequency distribution of the side dish words\n",
    "side_dish_fdist = nltk.FreqDist(side_dish_cps)\n",
    "side_dish_fdist.plot(30)\n",
    "\n"
   ]
  },
  {
   "cell_type": "markdown",
   "metadata": {},
   "source": [
    "**Unconventional Side Dishes**\n",
    "\n",
    "The seafood side dish item list contains some unconventional side dishes for seafood. A sanity check can be performed on whether these items were pulled in by the filter, i.e. if there are any logic errors in the filter implementation. Some unconventional items are: milk, cookies, ice cream, sugar, banana, peanut butter. \n",
    "\n",
    "\n",
    "After a check on the filtered csv output, it appears that these items are indeed associated with seafood meals. Although some of them are in a snack occasion, such as a snack that includes dried shrimp. Others are dessert items that are part of the meal. "
   ]
  },
  {
   "cell_type": "markdown",
   "metadata": {},
   "source": [
    "**Seafood Dish Types**\n",
    "\n",
    "This section performs some descriptive statistics on the seafood dishes, based on their type in the species classification. There are some seafood items that have multiple methods of consumptions (such as shrimp). Which items are these, and what types of seafood are more likely to be consumed as a single unique dish (i.e. not part of a lo mein, or fried rice)? "
   ]
  },
  {
   "cell_type": "code",
   "execution_count": 17,
   "metadata": {},
   "outputs": [
    {
     "name": "stdout",
     "output_type": "stream",
     "text": [
      "47\n",
      "shrimp         2397\n",
      "fish           1486\n",
      "tuna-mixed     1174\n",
      "salmon          796\n",
      "seafood         749\n",
      "tilapia         486\n",
      "crab            398\n",
      "catfish         312\n",
      "cod             211\n",
      "clam            201\n",
      "flounder        137\n",
      "tuna-fresh      125\n",
      "oyster          107\n",
      "shellfish       107\n",
      "whiting         101\n",
      "trout            95\n",
      "perch            91\n",
      "squid            88\n",
      "sardines         79\n",
      "lobster          65\n",
      "scallops         56\n",
      "haddock          52\n",
      "porgy            46\n",
      "pompano          46\n",
      "croaker          45\n",
      "ocean perch      44\n",
      "sea bass         42\n",
      "crayfish         40\n",
      "mussels          33\n",
      "herring          29\n",
      "mackerel         28\n",
      "carp             23\n",
      "swordfish        19\n",
      "anchovy          16\n",
      "eel              13\n",
      "octopus          10\n",
      "sturgeon         10\n",
      "frog              8\n",
      "mullet            5\n",
      "snails            5\n",
      "halibut           5\n",
      "shad              2\n",
      "pike              2\n",
      "shark             2\n",
      "abalone           1\n",
      "turtle            1\n",
      "ray               1\n",
      "Name: species, dtype: int64\n"
     ]
    }
   ],
   "source": [
    "#Seafood type count based on species\n",
    "seafood_species_count = seafood_df['species'].value_counts()\n",
    "print(seafood_species_count.count())\n",
    "print(seafood_species_count)\n"
   ]
  },
  {
   "cell_type": "markdown",
   "metadata": {},
   "source": [
    "We can see that there are 47 species of seafood in the survey, and their consumption count is given in the table above. What is the description distribution for each group, i.e. the variance in preparation?"
   ]
  },
  {
   "cell_type": "code",
   "execution_count": 19,
   "metadata": {},
   "outputs": [],
   "source": [
    "#Seafood type count based on species, convert to dataframe\n",
    "seafood_species_count = seafood_df['species'].value_counts()\n",
    "seafood_species_count = pd.DataFrame(seafood_species_count)\n",
    "\n",
    "\n",
    "#Group by species, description\n",
    "seafood_species_desc = seafood_df.groupby(['species', 'DESCRIPTION']).count()\n",
    "\n",
    "#Obtain unique description count for each seafood species group\n",
    "seafood_species_desc_count = seafood_df.groupby('species')['DESCRIPTION'].nunique().sort_values(ascending=False)\n",
    "\n",
    "#Join the frames to have unique species count and unique description in one table\n",
    "seafood_species_count = seafood_species_count.join(seafood_species_desc_count, how='outer')\n",
    "#Sort by species count, rename columns\n",
    "seafood_species_count = seafood_species_count.sort_values(by = 'species', ascending=False)\n",
    "seafood_species_count = seafood_species_count.rename(columns={\"Index\": \"species\", \"species\": \"species_count\", \"DESCRIPTION\": \"unique_description_count\"})\n",
    "\n",
    "'''\n",
    "Find the number of instances of the words \"and\" and \"with\" in each description item.\n",
    "Convert to dataframe join with seafood dataframe and then join with the seafood count \n",
    "table to form a tally. Save the table as .csv\n",
    "'''\n",
    "seafood_description_contains_with = seafood_df['DESCRIPTION'].str.count(' with ')\n",
    "seafood_description_contains_with = pd.DataFrame(seafood_description_contains_with)\n",
    "seafood_description_contains_with = seafood_description_contains_with.rename(columns={\"DESCRIPTION\": \"contains_with_count\"})\n",
    "\n",
    "seafood_description_contains_and = seafood_df['DESCRIPTION'].str.count(' and ')\n",
    "seafood_description_contains_and = pd.DataFrame(seafood_description_contains_and)\n",
    "seafood_description_contains_and = seafood_description_contains_and.rename(columns={\"DESCRIPTION\": \"contains_and_count\"})\n",
    "\n",
    "seafood_description_contains_with = seafood_description_contains_with.join(seafood_df, how='outer')\n",
    "seafood_description_contains_with = seafood_description_contains_with.groupby(['species'])['contains_with_count'].agg('sum')\n",
    "seafood_description_contains_with = pd.DataFrame(seafood_description_contains_with)\n",
    "\n",
    "seafood_description_contains_and = seafood_description_contains_and.join(seafood_df, how='outer')\n",
    "seafood_description_contains_and = seafood_description_contains_and.groupby(['species'])['contains_and_count'].agg('sum')\n",
    "seafood_description_contains_and = pd.DataFrame(seafood_description_contains_and)\n",
    "\n",
    "seafood_species_count.reset_index(inplace=True)\n",
    "seafood_species_count = pd.merge(seafood_species_count, seafood_description_contains_with, how='left', left_on=['index'], right_on=['species'])\n",
    "seafood_species_count = pd.merge(seafood_species_count, seafood_description_contains_and, how='left', left_on=['index'], right_on=['species'])"
   ]
  },
  {
   "cell_type": "code",
   "execution_count": 21,
   "metadata": {},
   "outputs": [
    {
     "name": "stdout",
     "output_type": "stream",
     "text": [
      "          index  species_count  unique_description_count  contains_with_count  \\\n",
      "0        shrimp           2397                       109                  914   \n",
      "1          fish           1486                        81                  369   \n",
      "2    tuna-mixed           1174                        59                  585   \n",
      "3        salmon            796                        35                  197   \n",
      "4       seafood            749                        65                  453   \n",
      "5       tilapia            486                        26                  253   \n",
      "6          crab            398                        28                   30   \n",
      "7       catfish            312                        17                  138   \n",
      "8           cod            211                        31                   61   \n",
      "9          clam            201                        22                   98   \n",
      "10     flounder            137                        20                   39   \n",
      "11   tuna-fresh            125                        16                   18   \n",
      "12       oyster            107                        20                    1   \n",
      "13    shellfish            107                        14                  146   \n",
      "14      whiting            101                        14                   31   \n",
      "15        trout             95                        18                   27   \n",
      "16        perch             91                        20                   16   \n",
      "17        squid             88                        11                    0   \n",
      "18     sardines             79                         5                    4   \n",
      "19      lobster             65                        14                    5   \n",
      "20     scallops             56                        13                    2   \n",
      "21      haddock             52                        18                    1   \n",
      "22      pompano             46                        11                    0   \n",
      "23        porgy             46                        11                    0   \n",
      "24      croaker             45                        11                    0   \n",
      "25  ocean perch             44                        13                    0   \n",
      "26     sea bass             42                         9                    0   \n",
      "27     crayfish             40                         3                    0   \n",
      "28      mussels             33                         4                    1   \n",
      "29      herring             29                         9                    0   \n",
      "30     mackerel             28                         8                    0   \n",
      "31         carp             23                         8                    0   \n",
      "32    swordfish             19                         9                    0   \n",
      "33      anchovy             16                         2                    0   \n",
      "34          eel             13                         7                    5   \n",
      "35      octopus             10                         2                    0   \n",
      "36     sturgeon             10                         2                    0   \n",
      "37         frog              8                         1                    0   \n",
      "38      halibut              5                         3                    4   \n",
      "39       snails              5                         2                    0   \n",
      "40       mullet              5                         4                    0   \n",
      "41        shark              2                         2                    0   \n",
      "42         shad              2                         1                    0   \n",
      "43         pike              2                         2                    0   \n",
      "44          ray              1                         1                    0   \n",
      "45       turtle              1                         1                    0   \n",
      "46      abalone              1                         1                    0   \n",
      "\n",
      "    contains_and_count  \n",
      "0                  440  \n",
      "1                  254  \n",
      "2                  166  \n",
      "3                    0  \n",
      "4                  355  \n",
      "5                    0  \n",
      "6                   49  \n",
      "7                    0  \n",
      "8                    0  \n",
      "9                    0  \n",
      "10                   0  \n",
      "11                   0  \n",
      "12                   0  \n",
      "13                  21  \n",
      "14                   0  \n",
      "15                   0  \n",
      "16                   0  \n",
      "17                   0  \n",
      "18                   0  \n",
      "19                   0  \n",
      "20                   2  \n",
      "21                   0  \n",
      "22                   0  \n",
      "23                   0  \n",
      "24                   0  \n",
      "25                   0  \n",
      "26                   0  \n",
      "27                   0  \n",
      "28                   0  \n",
      "29                   0  \n",
      "30                   0  \n",
      "31                   0  \n",
      "32                   0  \n",
      "33                   0  \n",
      "34                   0  \n",
      "35                   0  \n",
      "36                   0  \n",
      "37                   0  \n",
      "38                   0  \n",
      "39                   0  \n",
      "40                   0  \n",
      "41                   0  \n",
      "42                   0  \n",
      "43                   0  \n",
      "44                   0  \n",
      "45                   0  \n",
      "46                   0  \n"
     ]
    }
   ],
   "source": [
    "print(seafood_species_count)"
   ]
  },
  {
   "cell_type": "code",
   "execution_count": 20,
   "metadata": {},
   "outputs": [
    {
     "data": {
      "text/plain": [
       "17       seafood soup with vegetables (including carrot...\n",
       "30       seafood soup with potatoes and vegetables (exc...\n",
       "111      seafood stew with potatoes and vegetables (inc...\n",
       "340                     sushi, with vegetables and seafood\n",
       "372                                             sushi, nfs\n",
       "                               ...                        \n",
       "44431    pasta with tomato-based sauce and seafood, hom...\n",
       "44439    seafood soup with vegetables including carrots...\n",
       "44576       pasta with cream sauce and seafood, restaurant\n",
       "44577    pasta with cream sauce, seafood, and added veg...\n",
       "44666    seafood soup with vegetables including carrots...\n",
       "Name: DESCRIPTION, Length: 749, dtype: object"
      ]
     },
     "execution_count": 20,
     "metadata": {},
     "output_type": "execute_result"
    }
   ],
   "source": [
    "seafood_df['DESCRIPTION'][(seafood_df.species == 'seafood')]"
   ]
  },
  {
   "cell_type": "markdown",
   "metadata": {},
   "source": [
    "**Conclusions**\n",
    "\n"
   ]
  }
 ],
 "metadata": {
  "kernelspec": {
   "display_name": "Python 3",
   "language": "python",
   "name": "python3"
  },
  "language_info": {
   "codemirror_mode": {
    "name": "ipython",
    "version": 3
   },
   "file_extension": ".py",
   "mimetype": "text/x-python",
   "name": "python",
   "nbconvert_exporter": "python",
   "pygments_lexer": "ipython3",
   "version": "3.8.3"
  }
 },
 "nbformat": 4,
 "nbformat_minor": 4
}
