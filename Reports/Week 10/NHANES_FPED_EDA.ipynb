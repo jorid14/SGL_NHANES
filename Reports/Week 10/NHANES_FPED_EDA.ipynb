{
 "cells": [
  {
   "cell_type": "markdown",
   "metadata": {},
   "source": [
    "**Objectives**\n",
    "\n",
    "Perform more exploratory analysis on the input data for the logistic regression model. The goal is to come up with data filters and transformations that can be used to address assumptions about the research question. The model can then be re-evaulated and compared to the intial prediction rate results. \n",
    "\n",
    "Re-evaluate model with different techniques for constraining the observation\n",
    "space:\n",
    "\n",
    "○ Use subsets of meals within calorie distribution categories. For example: is there any\n",
    "difference between low calories and high calorie meals?\n",
    "\n",
    "○ Explore the possibility of transforming the input data from continuous to categorical.The\n",
    "component variables contain a high amount of 0’s with a right tail heavy distribution.\n",
    "\n",
    "○ Use only meals that are consumed at home, since eating out is generally more unhealthy\n",
    "\n",
    "○ Constrain the non-seafood class to meals containing meat only. This will exclude vegetarian meals and compare seafood consumers to meat consumers.\n",
    "\n",
    "○ Use a participant age filter, to look for adult participants only.\n",
    "\n",
    "○ Attempt a classification of meals that contain both meat and seafood.\n",
    "\n",
    "○ Convert input variables to standard units (some are in grams, some are in cups, etc.)\n",
    "\n",
    "○ Input from research collaborators:\n",
    "\n",
    "    ■ Obtain a more educated selection of input variables.\n",
    "\n",
    "    ■ Attempt to weight the observations, to adjust for the survey design methods."
   ]
  },
  {
   "cell_type": "markdown",
   "metadata": {},
   "source": [
    "**Section 1: Meal Energy Statistics**"
   ]
  },
  {
   "cell_type": "code",
   "execution_count": 19,
   "metadata": {},
   "outputs": [
    {
     "data": {
      "text/plain": [
       "981"
      ]
     },
     "execution_count": 19,
     "metadata": {},
     "output_type": "execute_result"
    },
    {
     "data": {
      "image/png": "[encoded data removed]",
      "text/plain": [
       "<Figure size 432x288 with 1 Axes>"
      ]
     },
     "metadata": {
      "needs_background": "light"
     },
     "output_type": "display_data"
    }
   ],
   "source": [
    "import pandas as pd\n",
    "\n",
    "#Read data frame and add plant pf total variable\n",
    "df = pd.read_csv('../../Data/nhanes_full_pre_proc.csv')\n",
    "df['PF_PLANT_D_TOTAL'] = df['PF_EGGS']+df['PF_SOY']+df['PF_NUTSDS']+df['PF_LEGUMES']\n",
    "\n",
    "df['DR1IKCAL'].plot.hist(bins=500)"
   ]
  },
  {
   "cell_type": "markdown",
   "metadata": {},
   "source": [
    "The plot above is displaying the distribution of the KCAL variable. One apparent potential issue is the left most bar, indicating meals where this variable is equal to 0."
   ]
  },
  {
   "cell_type": "code",
   "execution_count": 24,
   "metadata": {},
   "outputs": [
    {
     "data": {
      "text/plain": [
       "981"
      ]
     },
     "execution_count": 24,
     "metadata": {},
     "output_type": "execute_result"
    }
   ],
   "source": [
    "zero_kcal_meals = df[df['DR1IKCAL']==0]\n",
    "len(zero_kcal_meals)"
   ]
  },
  {
   "cell_type": "markdown",
   "metadata": {},
   "source": [
    "Indeed, there are 981 meals where KCAL = 0. "
   ]
  },
  {
   "cell_type": "code",
   "execution_count": 96,
   "metadata": {},
   "outputs": [
    {
     "data": {
      "text/html": [
       "<div>\n",
       "<style scoped>\n",
       "    .dataframe tbody tr th:only-of-type {\n",
       "        vertical-align: middle;\n",
       "    }\n",
       "\n",
       "    .dataframe tbody tr th {\n",
       "        vertical-align: top;\n",
       "    }\n",
       "\n",
       "    .dataframe thead th {\n",
       "        text-align: right;\n",
       "    }\n",
       "</style>\n",
       "<table border=\"1\" class=\"dataframe\">\n",
       "  <thead>\n",
       "    <tr style=\"text-align: right;\">\n",
       "      <th></th>\n",
       "      <th>SEQN</th>\n",
       "      <th>DR1.030Z</th>\n",
       "      <th>DR1.020</th>\n",
       "      <th>DR1IKCAL</th>\n",
       "    </tr>\n",
       "  </thead>\n",
       "  <tbody>\n",
       "    <tr>\n",
       "      <th>361</th>\n",
       "      <td>31330</td>\n",
       "      <td>3</td>\n",
       "      <td>90000</td>\n",
       "      <td>0.0</td>\n",
       "    </tr>\n",
       "    <tr>\n",
       "      <th>413</th>\n",
       "      <td>31364</td>\n",
       "      <td>14</td>\n",
       "      <td>86400</td>\n",
       "      <td>0.0</td>\n",
       "    </tr>\n",
       "    <tr>\n",
       "      <th>489</th>\n",
       "      <td>31411</td>\n",
       "      <td>15</td>\n",
       "      <td>54000</td>\n",
       "      <td>0.0</td>\n",
       "    </tr>\n",
       "    <tr>\n",
       "      <th>490</th>\n",
       "      <td>31411</td>\n",
       "      <td>15</td>\n",
       "      <td>70200</td>\n",
       "      <td>0.0</td>\n",
       "    </tr>\n",
       "    <tr>\n",
       "      <th>491</th>\n",
       "      <td>31411</td>\n",
       "      <td>15</td>\n",
       "      <td>75600</td>\n",
       "      <td>0.0</td>\n",
       "    </tr>\n",
       "  </tbody>\n",
       "</table>\n",
       "</div>"
      ],
      "text/plain": [
       "      SEQN  DR1.030Z  DR1.020  DR1IKCAL\n",
       "361  31330         3    90000       0.0\n",
       "413  31364        14    86400       0.0\n",
       "489  31411        15    54000       0.0\n",
       "490  31411        15    70200       0.0\n",
       "491  31411        15    75600       0.0"
      ]
     },
     "execution_count": 96,
     "metadata": {},
     "output_type": "execute_result"
    }
   ],
   "source": [
    "zero_kcal_meals[['SEQN', 'DR1.030Z', 'DR1.020', 'DR1IKCAL']].head(5)"
   ]
  },
  {
   "cell_type": "code",
   "execution_count": 72,
   "metadata": {},
   "outputs": [
    {
     "data": {
      "text/plain": [
       "<matplotlib.axes._subplots.AxesSubplot at 0x7feaa52b32b0>"
      ]
     },
     "execution_count": 72,
     "metadata": {},
     "output_type": "execute_result"
    },
    {
     "data": {
      "image/png": "[encoded data removed]",
      "text/plain": [
       "<Figure size 432x288 with 1 Axes>"
      ]
     },
     "metadata": {
      "needs_background": "light"
     },
     "output_type": "display_data"
    }
   ],
   "source": [
    "#Filter out 0 KCAL meals\n",
    "df = df[df['DR1IKCAL'] > 0]\n",
    "df['DR1IKCAL'].plot.hist(bins=500)"
   ]
  },
  {
   "cell_type": "code",
   "execution_count": 58,
   "metadata": {},
   "outputs": [
    {
     "data": {
      "text/plain": [
       "count    101731.000000\n",
       "mean        605.018942\n",
       "std         445.749113\n",
       "min           1.000000\n",
       "25%         297.000000\n",
       "50%         508.000000\n",
       "75%         798.000000\n",
       "max        6264.000000\n",
       "Name: DR1IKCAL, dtype: float64"
      ]
     },
     "execution_count": 58,
     "metadata": {},
     "output_type": "execute_result"
    }
   ],
   "source": [
    "#Obtain statistics for KCAL \n",
    "df['DR1IKCAL'].describe()"
   ]
  },
  {
   "cell_type": "code",
   "execution_count": 69,
   "metadata": {},
   "outputs": [
    {
     "data": {
      "text/html": [
       "<div>\n",
       "<style scoped>\n",
       "    .dataframe tbody tr th:only-of-type {\n",
       "        vertical-align: middle;\n",
       "    }\n",
       "\n",
       "    .dataframe tbody tr th {\n",
       "        vertical-align: top;\n",
       "    }\n",
       "\n",
       "    .dataframe thead th {\n",
       "        text-align: right;\n",
       "    }\n",
       "</style>\n",
       "<table border=\"1\" class=\"dataframe\">\n",
       "  <thead>\n",
       "    <tr style=\"text-align: right;\">\n",
       "      <th></th>\n",
       "      <th>count</th>\n",
       "      <th>mean</th>\n",
       "      <th>std</th>\n",
       "      <th>min</th>\n",
       "      <th>25%</th>\n",
       "      <th>50%</th>\n",
       "      <th>75%</th>\n",
       "      <th>max</th>\n",
       "    </tr>\n",
       "    <tr>\n",
       "      <th>eathome</th>\n",
       "      <th></th>\n",
       "      <th></th>\n",
       "      <th></th>\n",
       "      <th></th>\n",
       "      <th></th>\n",
       "      <th></th>\n",
       "      <th></th>\n",
       "      <th></th>\n",
       "    </tr>\n",
       "  </thead>\n",
       "  <tbody>\n",
       "    <tr>\n",
       "      <th>0</th>\n",
       "      <td>32830.0</td>\n",
       "      <td>687.545111</td>\n",
       "      <td>476.684325</td>\n",
       "      <td>1.0</td>\n",
       "      <td>360.0</td>\n",
       "      <td>587.0</td>\n",
       "      <td>899.0</td>\n",
       "      <td>5957.0</td>\n",
       "    </tr>\n",
       "    <tr>\n",
       "      <th>1</th>\n",
       "      <td>68901.0</td>\n",
       "      <td>565.696811</td>\n",
       "      <td>424.626035</td>\n",
       "      <td>1.0</td>\n",
       "      <td>271.0</td>\n",
       "      <td>471.0</td>\n",
       "      <td>751.0</td>\n",
       "      <td>6264.0</td>\n",
       "    </tr>\n",
       "  </tbody>\n",
       "</table>\n",
       "</div>"
      ],
      "text/plain": [
       "           count        mean         std  min    25%    50%    75%     max\n",
       "eathome                                                                   \n",
       "0        32830.0  687.545111  476.684325  1.0  360.0  587.0  899.0  5957.0\n",
       "1        68901.0  565.696811  424.626035  1.0  271.0  471.0  751.0  6264.0"
      ]
     },
     "execution_count": 69,
     "metadata": {},
     "output_type": "execute_result"
    }
   ],
   "source": [
    "#Home vs Out Meals\n",
    "df.groupby('eathome')['DR1IKCAL'].describe()"
   ]
  },
  {
   "cell_type": "code",
   "execution_count": 77,
   "metadata": {},
   "outputs": [
    {
     "data": {
      "text/plain": [
       "array([<matplotlib.axes._subplots.AxesSubplot object at 0x7feacb564ee0>,\n",
       "       <matplotlib.axes._subplots.AxesSubplot object at 0x7feaa686e6d0>],\n",
       "      dtype=object)"
      ]
     },
     "execution_count": 77,
     "metadata": {},
     "output_type": "execute_result"
    },
    {
     "data": {
      "image/png": "[encoded data removed]",
      "text/plain": [
       "<Figure size 432x288 with 2 Axes>"
      ]
     },
     "metadata": {
      "needs_background": "light"
     },
     "output_type": "display_data"
    }
   ],
   "source": [
    "#Home vs Out Meals\n",
    "df['DR1IKCAL'].hist(bins=500, by=df['eathome'])"
   ]
  },
  {
   "cell_type": "code",
   "execution_count": 78,
   "metadata": {},
   "outputs": [
    {
     "data": {
      "text/html": [
       "<div>\n",
       "<style scoped>\n",
       "    .dataframe tbody tr th:only-of-type {\n",
       "        vertical-align: middle;\n",
       "    }\n",
       "\n",
       "    .dataframe tbody tr th {\n",
       "        vertical-align: top;\n",
       "    }\n",
       "\n",
       "    .dataframe thead th {\n",
       "        text-align: right;\n",
       "    }\n",
       "</style>\n",
       "<table border=\"1\" class=\"dataframe\">\n",
       "  <thead>\n",
       "    <tr style=\"text-align: right;\">\n",
       "      <th></th>\n",
       "      <th>count</th>\n",
       "      <th>mean</th>\n",
       "      <th>std</th>\n",
       "      <th>min</th>\n",
       "      <th>25%</th>\n",
       "      <th>50%</th>\n",
       "      <th>75%</th>\n",
       "      <th>max</th>\n",
       "    </tr>\n",
       "    <tr>\n",
       "      <th>seafood_meal</th>\n",
       "      <th></th>\n",
       "      <th></th>\n",
       "      <th></th>\n",
       "      <th></th>\n",
       "      <th></th>\n",
       "      <th></th>\n",
       "      <th></th>\n",
       "      <th></th>\n",
       "    </tr>\n",
       "  </thead>\n",
       "  <tbody>\n",
       "    <tr>\n",
       "      <th>0</th>\n",
       "      <td>95782.0</td>\n",
       "      <td>595.879560</td>\n",
       "      <td>442.124805</td>\n",
       "      <td>1.0</td>\n",
       "      <td>289.0</td>\n",
       "      <td>499.0</td>\n",
       "      <td>789.0</td>\n",
       "      <td>6264.0</td>\n",
       "    </tr>\n",
       "    <tr>\n",
       "      <th>1</th>\n",
       "      <td>5949.0</td>\n",
       "      <td>752.167759</td>\n",
       "      <td>477.014340</td>\n",
       "      <td>40.0</td>\n",
       "      <td>431.0</td>\n",
       "      <td>643.0</td>\n",
       "      <td>943.0</td>\n",
       "      <td>4451.0</td>\n",
       "    </tr>\n",
       "  </tbody>\n",
       "</table>\n",
       "</div>"
      ],
      "text/plain": [
       "                count        mean         std   min    25%    50%    75%  \\\n",
       "seafood_meal                                                               \n",
       "0             95782.0  595.879560  442.124805   1.0  289.0  499.0  789.0   \n",
       "1              5949.0  752.167759  477.014340  40.0  431.0  643.0  943.0   \n",
       "\n",
       "                 max  \n",
       "seafood_meal          \n",
       "0             6264.0  \n",
       "1             4451.0  "
      ]
     },
     "execution_count": 78,
     "metadata": {},
     "output_type": "execute_result"
    }
   ],
   "source": [
    "#Seafood vs non seafood meals\n",
    "df.groupby('seafood_meal')['DR1IKCAL'].describe()"
   ]
  },
  {
   "cell_type": "code",
   "execution_count": 79,
   "metadata": {},
   "outputs": [
    {
     "data": {
      "text/plain": [
       "array([<matplotlib.axes._subplots.AxesSubplot object at 0x7feacebd8eb0>,\n",
       "       <matplotlib.axes._subplots.AxesSubplot object at 0x7feacdc885b0>],\n",
       "      dtype=object)"
      ]
     },
     "execution_count": 79,
     "metadata": {},
     "output_type": "execute_result"
    },
    {
     "data": {
      "image/png": "[encoded data removed]",
      "text/plain": [
       "<Figure size 432x288 with 2 Axes>"
      ]
     },
     "metadata": {
      "needs_background": "light"
     },
     "output_type": "display_data"
    }
   ],
   "source": [
    "#Seafood vs non seafood meals\n",
    "df['DR1IKCAL'].hist(bins=500, by=df['seafood_meal'])"
   ]
  },
  {
   "cell_type": "code",
   "execution_count": 81,
   "metadata": {},
   "outputs": [
    {
     "data": {
      "text/html": [
       "<div>\n",
       "<style scoped>\n",
       "    .dataframe tbody tr th:only-of-type {\n",
       "        vertical-align: middle;\n",
       "    }\n",
       "\n",
       "    .dataframe tbody tr th {\n",
       "        vertical-align: top;\n",
       "    }\n",
       "\n",
       "    .dataframe thead th {\n",
       "        text-align: right;\n",
       "    }\n",
       "</style>\n",
       "<table border=\"1\" class=\"dataframe\">\n",
       "  <thead>\n",
       "    <tr style=\"text-align: right;\">\n",
       "      <th></th>\n",
       "      <th></th>\n",
       "      <th>count</th>\n",
       "      <th>mean</th>\n",
       "      <th>std</th>\n",
       "      <th>min</th>\n",
       "      <th>25%</th>\n",
       "      <th>50%</th>\n",
       "      <th>75%</th>\n",
       "      <th>max</th>\n",
       "    </tr>\n",
       "    <tr>\n",
       "      <th>seafood_meal</th>\n",
       "      <th>eathome</th>\n",
       "      <th></th>\n",
       "      <th></th>\n",
       "      <th></th>\n",
       "      <th></th>\n",
       "      <th></th>\n",
       "      <th></th>\n",
       "      <th></th>\n",
       "      <th></th>\n",
       "    </tr>\n",
       "  </thead>\n",
       "  <tbody>\n",
       "    <tr>\n",
       "      <th rowspan=\"2\" valign=\"top\">0</th>\n",
       "      <th>0</th>\n",
       "      <td>30638.0</td>\n",
       "      <td>675.534695</td>\n",
       "      <td>470.570282</td>\n",
       "      <td>1.0</td>\n",
       "      <td>352.00</td>\n",
       "      <td>576.0</td>\n",
       "      <td>885.00</td>\n",
       "      <td>5957.0</td>\n",
       "    </tr>\n",
       "    <tr>\n",
       "      <th>1</th>\n",
       "      <td>65144.0</td>\n",
       "      <td>558.416800</td>\n",
       "      <td>422.941684</td>\n",
       "      <td>1.0</td>\n",
       "      <td>265.00</td>\n",
       "      <td>463.5</td>\n",
       "      <td>743.00</td>\n",
       "      <td>6264.0</td>\n",
       "    </tr>\n",
       "    <tr>\n",
       "      <th rowspan=\"2\" valign=\"top\">1</th>\n",
       "      <th>0</th>\n",
       "      <td>2192.0</td>\n",
       "      <td>855.416971</td>\n",
       "      <td>527.356298</td>\n",
       "      <td>50.0</td>\n",
       "      <td>495.75</td>\n",
       "      <td>736.0</td>\n",
       "      <td>1073.25</td>\n",
       "      <td>4451.0</td>\n",
       "    </tr>\n",
       "    <tr>\n",
       "      <th>1</th>\n",
       "      <td>3757.0</td>\n",
       "      <td>691.927602</td>\n",
       "      <td>433.886534</td>\n",
       "      <td>40.0</td>\n",
       "      <td>403.00</td>\n",
       "      <td>599.0</td>\n",
       "      <td>860.00</td>\n",
       "      <td>3509.0</td>\n",
       "    </tr>\n",
       "  </tbody>\n",
       "</table>\n",
       "</div>"
      ],
      "text/plain": [
       "                        count        mean         std   min     25%    50%  \\\n",
       "seafood_meal eathome                                                         \n",
       "0            0        30638.0  675.534695  470.570282   1.0  352.00  576.0   \n",
       "             1        65144.0  558.416800  422.941684   1.0  265.00  463.5   \n",
       "1            0         2192.0  855.416971  527.356298  50.0  495.75  736.0   \n",
       "             1         3757.0  691.927602  433.886534  40.0  403.00  599.0   \n",
       "\n",
       "                          75%     max  \n",
       "seafood_meal eathome                   \n",
       "0            0         885.00  5957.0  \n",
       "             1         743.00  6264.0  \n",
       "1            0        1073.25  4451.0  \n",
       "             1         860.00  3509.0  "
      ]
     },
     "execution_count": 81,
     "metadata": {},
     "output_type": "execute_result"
    }
   ],
   "source": [
    "#Seafood vs non seafood home and out\n",
    "df.groupby(['seafood_meal','eathome'])['DR1IKCAL'].describe()"
   ]
  },
  {
   "cell_type": "markdown",
   "metadata": {},
   "source": [
    "**Section 1: Meal Energy Grouping**\n",
    "\n",
    "Create meal energy grouping based on quantiles from the 'KCAL' variable."
   ]
  },
  {
   "cell_type": "code",
   "execution_count": 99,
   "metadata": {},
   "outputs": [
    {
     "data": {
      "text/html": [
       "<div>\n",
       "<style scoped>\n",
       "    .dataframe tbody tr th:only-of-type {\n",
       "        vertical-align: middle;\n",
       "    }\n",
       "\n",
       "    .dataframe tbody tr th {\n",
       "        vertical-align: top;\n",
       "    }\n",
       "\n",
       "    .dataframe thead th {\n",
       "        text-align: right;\n",
       "    }\n",
       "</style>\n",
       "<table border=\"1\" class=\"dataframe\">\n",
       "  <thead>\n",
       "    <tr style=\"text-align: right;\">\n",
       "      <th></th>\n",
       "      <th>SEQN</th>\n",
       "      <th>DR1IKCAL</th>\n",
       "      <th>meal_energy</th>\n",
       "    </tr>\n",
       "  </thead>\n",
       "  <tbody>\n",
       "    <tr>\n",
       "      <th>0</th>\n",
       "      <td>31127</td>\n",
       "      <td>447.0</td>\n",
       "      <td>Medium-Low</td>\n",
       "    </tr>\n",
       "    <tr>\n",
       "      <th>1</th>\n",
       "      <td>31127</td>\n",
       "      <td>264.0</td>\n",
       "      <td>Low</td>\n",
       "    </tr>\n",
       "    <tr>\n",
       "      <th>2</th>\n",
       "      <td>31128</td>\n",
       "      <td>861.0</td>\n",
       "      <td>High</td>\n",
       "    </tr>\n",
       "    <tr>\n",
       "      <th>3</th>\n",
       "      <td>31129</td>\n",
       "      <td>867.0</td>\n",
       "      <td>High</td>\n",
       "    </tr>\n",
       "    <tr>\n",
       "      <th>4</th>\n",
       "      <td>31129</td>\n",
       "      <td>1150.0</td>\n",
       "      <td>High</td>\n",
       "    </tr>\n",
       "    <tr>\n",
       "      <th>5</th>\n",
       "      <td>31131</td>\n",
       "      <td>253.0</td>\n",
       "      <td>Low</td>\n",
       "    </tr>\n",
       "    <tr>\n",
       "      <th>6</th>\n",
       "      <td>31131</td>\n",
       "      <td>88.0</td>\n",
       "      <td>Low</td>\n",
       "    </tr>\n",
       "    <tr>\n",
       "      <th>7</th>\n",
       "      <td>31132</td>\n",
       "      <td>130.0</td>\n",
       "      <td>Low</td>\n",
       "    </tr>\n",
       "    <tr>\n",
       "      <th>8</th>\n",
       "      <td>31132</td>\n",
       "      <td>836.0</td>\n",
       "      <td>High</td>\n",
       "    </tr>\n",
       "    <tr>\n",
       "      <th>9</th>\n",
       "      <td>31132</td>\n",
       "      <td>491.0</td>\n",
       "      <td>Medium-Low</td>\n",
       "    </tr>\n",
       "    <tr>\n",
       "      <th>10</th>\n",
       "      <td>31133</td>\n",
       "      <td>843.0</td>\n",
       "      <td>High</td>\n",
       "    </tr>\n",
       "    <tr>\n",
       "      <th>11</th>\n",
       "      <td>31133</td>\n",
       "      <td>448.0</td>\n",
       "      <td>Medium-Low</td>\n",
       "    </tr>\n",
       "    <tr>\n",
       "      <th>12</th>\n",
       "      <td>31134</td>\n",
       "      <td>963.0</td>\n",
       "      <td>High</td>\n",
       "    </tr>\n",
       "    <tr>\n",
       "      <th>13</th>\n",
       "      <td>31134</td>\n",
       "      <td>1181.0</td>\n",
       "      <td>High</td>\n",
       "    </tr>\n",
       "    <tr>\n",
       "      <th>14</th>\n",
       "      <td>31135</td>\n",
       "      <td>332.0</td>\n",
       "      <td>Medium-Low</td>\n",
       "    </tr>\n",
       "    <tr>\n",
       "      <th>15</th>\n",
       "      <td>31135</td>\n",
       "      <td>501.0</td>\n",
       "      <td>Medium-Low</td>\n",
       "    </tr>\n",
       "    <tr>\n",
       "      <th>16</th>\n",
       "      <td>31137</td>\n",
       "      <td>720.0</td>\n",
       "      <td>Medium-High</td>\n",
       "    </tr>\n",
       "    <tr>\n",
       "      <th>17</th>\n",
       "      <td>31137</td>\n",
       "      <td>813.0</td>\n",
       "      <td>High</td>\n",
       "    </tr>\n",
       "    <tr>\n",
       "      <th>18</th>\n",
       "      <td>31138</td>\n",
       "      <td>314.0</td>\n",
       "      <td>Medium-Low</td>\n",
       "    </tr>\n",
       "    <tr>\n",
       "      <th>19</th>\n",
       "      <td>31138</td>\n",
       "      <td>204.0</td>\n",
       "      <td>Low</td>\n",
       "    </tr>\n",
       "  </tbody>\n",
       "</table>\n",
       "</div>"
      ],
      "text/plain": [
       "     SEQN  DR1IKCAL  meal_energy\n",
       "0   31127     447.0   Medium-Low\n",
       "1   31127     264.0          Low\n",
       "2   31128     861.0         High\n",
       "3   31129     867.0         High\n",
       "4   31129    1150.0         High\n",
       "5   31131     253.0          Low\n",
       "6   31131      88.0          Low\n",
       "7   31132     130.0          Low\n",
       "8   31132     836.0         High\n",
       "9   31132     491.0   Medium-Low\n",
       "10  31133     843.0         High\n",
       "11  31133     448.0   Medium-Low\n",
       "12  31134     963.0         High\n",
       "13  31134    1181.0         High\n",
       "14  31135     332.0   Medium-Low\n",
       "15  31135     501.0   Medium-Low\n",
       "16  31137     720.0  Medium-High\n",
       "17  31137     813.0         High\n",
       "18  31138     314.0   Medium-Low\n",
       "19  31138     204.0          Low"
      ]
     },
     "execution_count": 99,
     "metadata": {},
     "output_type": "execute_result"
    }
   ],
   "source": [
    "#Create meal energy category based on quantiles from KCAL\n",
    "df.loc[df['DR1IKCAL'] < df['DR1IKCAL'].describe()['25%'], 'meal_energy'] = \"Low\"\n",
    "df.loc[(df['DR1IKCAL'] > df['DR1IKCAL'].describe()['25%']) \n",
    "       & (df['DR1IKCAL'] < df['DR1IKCAL'].describe()['50%']), 'meal_energy'] = \"Medium-Low\"\n",
    "df.loc[(df['DR1IKCAL'] > df['DR1IKCAL'].describe()['50%']) \n",
    "       & (df['DR1IKCAL'] < df['DR1IKCAL'].describe()['75%']), 'meal_energy'] = \"Medium-High\"\n",
    "df.loc[df['DR1IKCAL'] > df['DR1IKCAL'].describe()['75%'], 'meal_energy'] = \"High\"\n",
    "\n",
    "#Display top of new meal energy category\n",
    "df[['SEQN', 'DR1IKCAL','meal_energy']].head(20)"
   ]
  },
  {
   "cell_type": "markdown",
   "metadata": {},
   "source": [
    "**Section 1: Questions**\n",
    "\n",
    "1. Why are there so many meals with 0 KCAL?\n",
    "2. Why are the KCAL values so large? Looking at the statistics, these seem more like calories instead of kilo-calories.\n",
    "3. Is the grouping method for this variable adequate?"
   ]
  },
  {
   "cell_type": "markdown",
   "metadata": {},
   "source": [
    "**Section 2: FPED Component Statstics**"
   ]
  }
 ],
 "metadata": {
  "kernelspec": {
   "display_name": "Python 3",
   "language": "python",
   "name": "python3"
  },
  "language_info": {
   "codemirror_mode": {
    "name": "ipython",
    "version": 3
   },
   "file_extension": ".py",
   "mimetype": "text/x-python",
   "name": "python",
   "nbconvert_exporter": "python",
   "pygments_lexer": "ipython3",
   "version": "3.8.3"
  }
 },
 "nbformat": 4,
 "nbformat_minor": 4
}
