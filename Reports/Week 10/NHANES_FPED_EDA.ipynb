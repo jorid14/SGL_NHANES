{
 "cells": [
  {
   "cell_type": "markdown",
   "metadata": {},
   "source": [
    "**Objectives**\n",
    "\n",
    "Perform more exploratory analysis on the input data for the logistic regression model. The goal is to come up with data filters and transformations that can be used to address assumptions about the research question. The model can then be re-evaulated and compared to the intial prediction rate results. \n",
    "\n",
    "Re-evaluate model with different techniques for constraining the observation\n",
    "space:\n",
    "\n",
    "○ Use subsets of meals within calorie distribution categories. For example: is there any\n",
    "difference between low calories and high calorie meals?\n",
    "\n",
    "○ Explore the possibility of transforming the input data from continuous to categorical.The\n",
    "component variables contain a high amount of 0’s with a right tail heavy distribution.\n",
    "\n",
    "○ Use only meals that are consumed at home, since eating out is generally more unhealthy\n",
    "\n",
    "○ Constrain the non-seafood class to meals containing meat only. This will exclude vegetarian meals and compare seafood consumers to meat consumers.\n",
    "\n",
    "○ Use a participant age filter, to look for adult participants only.\n",
    "\n",
    "○ Attempt a classification of meals that contain both meat and seafood.\n",
    "\n",
    "○ Convert input variables to standard units (some are in grams, some are in cups, etc.)\n",
    "\n",
    "○ Input from research collaborators:\n",
    "\n",
    "    ■ Obtain a more educated selection of input variables.\n",
    "\n",
    "    ■ Attempt to weight the observations, to adjust for the survey design methods."
   ]
  },
  {
   "cell_type": "markdown",
   "metadata": {},
   "source": [
    "**Section 1: Meal Energy Statistics**"
   ]
  },
  {
   "cell_type": "code",
   "execution_count": 98,
   "metadata": {},
   "outputs": [
    {
     "data": {
      "text/plain": [
       "<matplotlib.axes._subplots.AxesSubplot at 0x7fe5b4d86fd0>"
      ]
     },
     "execution_count": 98,
     "metadata": {},
     "output_type": "execute_result"
    },
    {
     "data": {
      "image/png": "[encoded data removed]",
      "text/plain": [
       "<Figure size 432x288 with 1 Axes>"
      ]
     },
     "metadata": {
      "needs_background": "light"
     },
     "output_type": "display_data"
    }
   ],
   "source": [
    "import pandas as pd\n",
    "\n",
    "#Read data frame and add plant pf total variable\n",
    "df = pd.read_csv('../../Data/nhanes_full_pre_proc.csv')\n",
    "df['PF_PLANT_D_TOTAL'] = df['PF_EGGS']+df['PF_SOY']+df['PF_NUTSDS']+df['PF_LEGUMES']\n",
    "\n",
    "df['DR1IKCAL'].plot.hist(bins=500, title='Meal Calorie Distribution')"
   ]
  },
  {
   "cell_type": "markdown",
   "metadata": {},
   "source": [
    "The plot above is displaying the distribution of the KCAL variable. One apparent potential issue is the left most bar, indicating meals where this variable is equal to 0."
   ]
  },
  {
   "cell_type": "code",
   "execution_count": 64,
   "metadata": {},
   "outputs": [
    {
     "data": {
      "text/plain": [
       "981"
      ]
     },
     "execution_count": 64,
     "metadata": {},
     "output_type": "execute_result"
    }
   ],
   "source": [
    "zero_kcal_meals = df[df['DR1IKCAL']==0]\n",
    "len(zero_kcal_meals)"
   ]
  },
  {
   "cell_type": "markdown",
   "metadata": {},
   "source": [
    "Indeed, there are 981 meals where KCAL = 0. "
   ]
  },
  {
   "cell_type": "code",
   "execution_count": 65,
   "metadata": {},
   "outputs": [
    {
     "data": {
      "text/html": [
       "<div>\n",
       "<style scoped>\n",
       "    .dataframe tbody tr th:only-of-type {\n",
       "        vertical-align: middle;\n",
       "    }\n",
       "\n",
       "    .dataframe tbody tr th {\n",
       "        vertical-align: top;\n",
       "    }\n",
       "\n",
       "    .dataframe thead th {\n",
       "        text-align: right;\n",
       "    }\n",
       "</style>\n",
       "<table border=\"1\" class=\"dataframe\">\n",
       "  <thead>\n",
       "    <tr style=\"text-align: right;\">\n",
       "      <th></th>\n",
       "      <th>SEQN</th>\n",
       "      <th>DR1.030Z</th>\n",
       "      <th>DR1.020</th>\n",
       "      <th>DR1IKCAL</th>\n",
       "    </tr>\n",
       "  </thead>\n",
       "  <tbody>\n",
       "    <tr>\n",
       "      <th>361</th>\n",
       "      <td>31330</td>\n",
       "      <td>3</td>\n",
       "      <td>90000</td>\n",
       "      <td>0.0</td>\n",
       "    </tr>\n",
       "    <tr>\n",
       "      <th>413</th>\n",
       "      <td>31364</td>\n",
       "      <td>14</td>\n",
       "      <td>86400</td>\n",
       "      <td>0.0</td>\n",
       "    </tr>\n",
       "    <tr>\n",
       "      <th>489</th>\n",
       "      <td>31411</td>\n",
       "      <td>15</td>\n",
       "      <td>54000</td>\n",
       "      <td>0.0</td>\n",
       "    </tr>\n",
       "    <tr>\n",
       "      <th>490</th>\n",
       "      <td>31411</td>\n",
       "      <td>15</td>\n",
       "      <td>70200</td>\n",
       "      <td>0.0</td>\n",
       "    </tr>\n",
       "    <tr>\n",
       "      <th>491</th>\n",
       "      <td>31411</td>\n",
       "      <td>15</td>\n",
       "      <td>75600</td>\n",
       "      <td>0.0</td>\n",
       "    </tr>\n",
       "  </tbody>\n",
       "</table>\n",
       "</div>"
      ],
      "text/plain": [
       "      SEQN  DR1.030Z  DR1.020  DR1IKCAL\n",
       "361  31330         3    90000       0.0\n",
       "413  31364        14    86400       0.0\n",
       "489  31411        15    54000       0.0\n",
       "490  31411        15    70200       0.0\n",
       "491  31411        15    75600       0.0"
      ]
     },
     "execution_count": 65,
     "metadata": {},
     "output_type": "execute_result"
    }
   ],
   "source": [
    "zero_kcal_meals[['SEQN', 'DR1.030Z', 'DR1.020', 'DR1IKCAL']].head(5)"
   ]
  },
  {
   "cell_type": "markdown",
   "metadata": {},
   "source": [
    "Table: Sample of users with meals that are 0 KCAL, for further investigation."
   ]
  },
  {
   "cell_type": "code",
   "execution_count": 90,
   "metadata": {},
   "outputs": [
    {
     "data": {
      "text/plain": [
       "<matplotlib.axes._subplots.AxesSubplot at 0x7fe5b06dc4f0>"
      ]
     },
     "execution_count": 90,
     "metadata": {},
     "output_type": "execute_result"
    },
    {
     "data": {
      "image/png": "[encoded data removed]",
      "text/plain": [
       "<Figure size 432x288 with 1 Axes>"
      ]
     },
     "metadata": {
      "needs_background": "light"
     },
     "output_type": "display_data"
    }
   ],
   "source": [
    "#Filter out 0 KCAL meals\n",
    "df = df[df['DR1IKCAL'] > 0]\n",
    "df['DR1IKCAL'].plot.hist(bins=500, title='Meal Calorie Distribution - Zero\\'s removed')"
   ]
  },
  {
   "cell_type": "markdown",
   "metadata": {},
   "source": [
    "Plot: Meal calories distribution with meals that are 0 KCAL removed. "
   ]
  },
  {
   "cell_type": "code",
   "execution_count": 93,
   "metadata": {},
   "outputs": [
    {
     "data": {
      "text/plain": [
       "<matplotlib.axes._subplots.AxesSubplot at 0x7fe5b23671f0>"
      ]
     },
     "execution_count": 93,
     "metadata": {},
     "output_type": "execute_result"
    },
    {
     "data": {
      "image/png": "[encoded data removed]",
      "text/plain": [
       "<Figure size 432x288 with 1 Axes>"
      ]
     },
     "metadata": {
      "needs_background": "light"
     },
     "output_type": "display_data"
    }
   ],
   "source": [
    "df.boxplot(column='DR1IKCAL',rot=90)"
   ]
  },
  {
   "cell_type": "markdown",
   "metadata": {},
   "source": [
    "Plot: Boxplot of meal calories distribution with meals that are 0 KCAL removed. "
   ]
  },
  {
   "cell_type": "code",
   "execution_count": 67,
   "metadata": {},
   "outputs": [
    {
     "data": {
      "text/plain": [
       "count    101731.000000\n",
       "mean        605.018942\n",
       "std         445.749113\n",
       "min           1.000000\n",
       "25%         297.000000\n",
       "50%         508.000000\n",
       "75%         798.000000\n",
       "max        6264.000000\n",
       "Name: DR1IKCAL, dtype: float64"
      ]
     },
     "execution_count": 67,
     "metadata": {},
     "output_type": "execute_result"
    }
   ],
   "source": [
    "#Obtain statistics for KCAL \n",
    "df['DR1IKCAL'].describe()"
   ]
  },
  {
   "cell_type": "markdown",
   "metadata": {},
   "source": [
    "Table: Statistical distribution of the KCAL variable, with 0 KCAL meals removed."
   ]
  },
  {
   "cell_type": "code",
   "execution_count": 68,
   "metadata": {},
   "outputs": [
    {
     "data": {
      "text/html": [
       "<div>\n",
       "<style scoped>\n",
       "    .dataframe tbody tr th:only-of-type {\n",
       "        vertical-align: middle;\n",
       "    }\n",
       "\n",
       "    .dataframe tbody tr th {\n",
       "        vertical-align: top;\n",
       "    }\n",
       "\n",
       "    .dataframe thead th {\n",
       "        text-align: right;\n",
       "    }\n",
       "</style>\n",
       "<table border=\"1\" class=\"dataframe\">\n",
       "  <thead>\n",
       "    <tr style=\"text-align: right;\">\n",
       "      <th></th>\n",
       "      <th>count</th>\n",
       "      <th>mean</th>\n",
       "      <th>std</th>\n",
       "      <th>min</th>\n",
       "      <th>25%</th>\n",
       "      <th>50%</th>\n",
       "      <th>75%</th>\n",
       "      <th>max</th>\n",
       "    </tr>\n",
       "    <tr>\n",
       "      <th>eathome</th>\n",
       "      <th></th>\n",
       "      <th></th>\n",
       "      <th></th>\n",
       "      <th></th>\n",
       "      <th></th>\n",
       "      <th></th>\n",
       "      <th></th>\n",
       "      <th></th>\n",
       "    </tr>\n",
       "  </thead>\n",
       "  <tbody>\n",
       "    <tr>\n",
       "      <th>0</th>\n",
       "      <td>32830.0</td>\n",
       "      <td>687.545111</td>\n",
       "      <td>476.684325</td>\n",
       "      <td>1.0</td>\n",
       "      <td>360.0</td>\n",
       "      <td>587.0</td>\n",
       "      <td>899.0</td>\n",
       "      <td>5957.0</td>\n",
       "    </tr>\n",
       "    <tr>\n",
       "      <th>1</th>\n",
       "      <td>68901.0</td>\n",
       "      <td>565.696811</td>\n",
       "      <td>424.626035</td>\n",
       "      <td>1.0</td>\n",
       "      <td>271.0</td>\n",
       "      <td>471.0</td>\n",
       "      <td>751.0</td>\n",
       "      <td>6264.0</td>\n",
       "    </tr>\n",
       "  </tbody>\n",
       "</table>\n",
       "</div>"
      ],
      "text/plain": [
       "           count        mean         std  min    25%    50%    75%     max\n",
       "eathome                                                                   \n",
       "0        32830.0  687.545111  476.684325  1.0  360.0  587.0  899.0  5957.0\n",
       "1        68901.0  565.696811  424.626035  1.0  271.0  471.0  751.0  6264.0"
      ]
     },
     "execution_count": 68,
     "metadata": {},
     "output_type": "execute_result"
    }
   ],
   "source": [
    "#Home vs Out Meals\n",
    "df.groupby('eathome')['DR1IKCAL'].describe()"
   ]
  },
  {
   "cell_type": "markdown",
   "metadata": {},
   "source": [
    "Table: Statistical distribution of the KCAL variable within the 'eathome' groups, with 0 KCAL meals removed."
   ]
  },
  {
   "cell_type": "code",
   "execution_count": 96,
   "metadata": {},
   "outputs": [
    {
     "data": {
      "text/plain": [
       "array([<matplotlib.axes._subplots.AxesSubplot object at 0x7fe5b4d5aa00>,\n",
       "       <matplotlib.axes._subplots.AxesSubplot object at 0x7fe5b4e04460>],\n",
       "      dtype=object)"
      ]
     },
     "execution_count": 96,
     "metadata": {},
     "output_type": "execute_result"
    },
    {
     "data": {
      "image/png": "[encoded data removed]",
      "text/plain": [
       "<Figure size 432x288 with 2 Axes>"
      ]
     },
     "metadata": {
      "needs_background": "light"
     },
     "output_type": "display_data"
    }
   ],
   "source": [
    "#Home vs Out Meals\n",
    "df['DR1IKCAL'].hist(bins=500, by=df['eathome'])"
   ]
  },
  {
   "cell_type": "markdown",
   "metadata": {},
   "source": [
    "Plot: Meal calories distribution with meals that are 0 KCAL removed, split by 'eathome' groups. "
   ]
  },
  {
   "cell_type": "code",
   "execution_count": 84,
   "metadata": {},
   "outputs": [
    {
     "data": {
      "text/plain": [
       "<matplotlib.axes._subplots.AxesSubplot at 0x7fe5d013caf0>"
      ]
     },
     "execution_count": 84,
     "metadata": {},
     "output_type": "execute_result"
    },
    {
     "data": {
      "image/png": "[encoded data removed]",
      "text/plain": [
       "<Figure size 432x288 with 1 Axes>"
      ]
     },
     "metadata": {
      "needs_background": "light"
     },
     "output_type": "display_data"
    }
   ],
   "source": [
    "df.boxplot(column='DR1IKCAL',by='eathome',rot=90)"
   ]
  },
  {
   "cell_type": "markdown",
   "metadata": {},
   "source": [
    "Plot: Boxplot of meal calories distribution with meals that are 0 KCAL removed, split by 'eathome' groups. "
   ]
  },
  {
   "cell_type": "code",
   "execution_count": 70,
   "metadata": {},
   "outputs": [
    {
     "data": {
      "text/html": [
       "<div>\n",
       "<style scoped>\n",
       "    .dataframe tbody tr th:only-of-type {\n",
       "        vertical-align: middle;\n",
       "    }\n",
       "\n",
       "    .dataframe tbody tr th {\n",
       "        vertical-align: top;\n",
       "    }\n",
       "\n",
       "    .dataframe thead th {\n",
       "        text-align: right;\n",
       "    }\n",
       "</style>\n",
       "<table border=\"1\" class=\"dataframe\">\n",
       "  <thead>\n",
       "    <tr style=\"text-align: right;\">\n",
       "      <th></th>\n",
       "      <th>count</th>\n",
       "      <th>mean</th>\n",
       "      <th>std</th>\n",
       "      <th>min</th>\n",
       "      <th>25%</th>\n",
       "      <th>50%</th>\n",
       "      <th>75%</th>\n",
       "      <th>max</th>\n",
       "    </tr>\n",
       "    <tr>\n",
       "      <th>seafood_meal</th>\n",
       "      <th></th>\n",
       "      <th></th>\n",
       "      <th></th>\n",
       "      <th></th>\n",
       "      <th></th>\n",
       "      <th></th>\n",
       "      <th></th>\n",
       "      <th></th>\n",
       "    </tr>\n",
       "  </thead>\n",
       "  <tbody>\n",
       "    <tr>\n",
       "      <th>0</th>\n",
       "      <td>95782.0</td>\n",
       "      <td>595.879560</td>\n",
       "      <td>442.124805</td>\n",
       "      <td>1.0</td>\n",
       "      <td>289.0</td>\n",
       "      <td>499.0</td>\n",
       "      <td>789.0</td>\n",
       "      <td>6264.0</td>\n",
       "    </tr>\n",
       "    <tr>\n",
       "      <th>1</th>\n",
       "      <td>5949.0</td>\n",
       "      <td>752.167759</td>\n",
       "      <td>477.014340</td>\n",
       "      <td>40.0</td>\n",
       "      <td>431.0</td>\n",
       "      <td>643.0</td>\n",
       "      <td>943.0</td>\n",
       "      <td>4451.0</td>\n",
       "    </tr>\n",
       "  </tbody>\n",
       "</table>\n",
       "</div>"
      ],
      "text/plain": [
       "                count        mean         std   min    25%    50%    75%  \\\n",
       "seafood_meal                                                               \n",
       "0             95782.0  595.879560  442.124805   1.0  289.0  499.0  789.0   \n",
       "1              5949.0  752.167759  477.014340  40.0  431.0  643.0  943.0   \n",
       "\n",
       "                 max  \n",
       "seafood_meal          \n",
       "0             6264.0  \n",
       "1             4451.0  "
      ]
     },
     "execution_count": 70,
     "metadata": {},
     "output_type": "execute_result"
    }
   ],
   "source": [
    "#Seafood vs non seafood meals\n",
    "df.groupby('seafood_meal')['DR1IKCAL'].describe()"
   ]
  },
  {
   "cell_type": "markdown",
   "metadata": {},
   "source": [
    "Table: Statistical distribution of the KCAL variable within the 'seafood meal' groups, with 0 KCAL meals removed."
   ]
  },
  {
   "cell_type": "code",
   "execution_count": 71,
   "metadata": {},
   "outputs": [
    {
     "data": {
      "text/plain": [
       "array([<matplotlib.axes._subplots.AxesSubplot object at 0x7fe5c6b466a0>,\n",
       "       <matplotlib.axes._subplots.AxesSubplot object at 0x7fe5c4870fa0>],\n",
       "      dtype=object)"
      ]
     },
     "execution_count": 71,
     "metadata": {},
     "output_type": "execute_result"
    },
    {
     "data": {
      "image/png": "[encoded data removed]",
      "text/plain": [
       "<Figure size 432x288 with 2 Axes>"
      ]
     },
     "metadata": {
      "needs_background": "light"
     },
     "output_type": "display_data"
    }
   ],
   "source": [
    "#Seafood vs non seafood meals\n",
    "df['DR1IKCAL'].hist(bins=500, by=df['seafood_meal'])"
   ]
  },
  {
   "cell_type": "markdown",
   "metadata": {},
   "source": [
    "Plot: Meal calories distribution with meals that are 0 KCAL removed, split by 'seafood meal' groups. "
   ]
  },
  {
   "cell_type": "code",
   "execution_count": 86,
   "metadata": {},
   "outputs": [
    {
     "data": {
      "text/plain": [
       "<matplotlib.axes._subplots.AxesSubplot at 0x7fe5b0515a30>"
      ]
     },
     "execution_count": 86,
     "metadata": {},
     "output_type": "execute_result"
    },
    {
     "data": {
      "image/png": "[encoded data removed]",
      "text/plain": [
       "<Figure size 432x288 with 1 Axes>"
      ]
     },
     "metadata": {
      "needs_background": "light"
     },
     "output_type": "display_data"
    }
   ],
   "source": [
    "df.boxplot(column='DR1IKCAL',by='seafood_meal',rot=90)"
   ]
  },
  {
   "cell_type": "markdown",
   "metadata": {},
   "source": [
    "Plot: Boxplot of meal calories distribution with meals that are 0 KCAL removed, split by 'seafood meal' groups. "
   ]
  },
  {
   "cell_type": "code",
   "execution_count": 72,
   "metadata": {},
   "outputs": [
    {
     "data": {
      "text/html": [
       "<div>\n",
       "<style scoped>\n",
       "    .dataframe tbody tr th:only-of-type {\n",
       "        vertical-align: middle;\n",
       "    }\n",
       "\n",
       "    .dataframe tbody tr th {\n",
       "        vertical-align: top;\n",
       "    }\n",
       "\n",
       "    .dataframe thead th {\n",
       "        text-align: right;\n",
       "    }\n",
       "</style>\n",
       "<table border=\"1\" class=\"dataframe\">\n",
       "  <thead>\n",
       "    <tr style=\"text-align: right;\">\n",
       "      <th></th>\n",
       "      <th></th>\n",
       "      <th>count</th>\n",
       "      <th>mean</th>\n",
       "      <th>std</th>\n",
       "      <th>min</th>\n",
       "      <th>25%</th>\n",
       "      <th>50%</th>\n",
       "      <th>75%</th>\n",
       "      <th>max</th>\n",
       "    </tr>\n",
       "    <tr>\n",
       "      <th>seafood_meal</th>\n",
       "      <th>eathome</th>\n",
       "      <th></th>\n",
       "      <th></th>\n",
       "      <th></th>\n",
       "      <th></th>\n",
       "      <th></th>\n",
       "      <th></th>\n",
       "      <th></th>\n",
       "      <th></th>\n",
       "    </tr>\n",
       "  </thead>\n",
       "  <tbody>\n",
       "    <tr>\n",
       "      <th rowspan=\"2\" valign=\"top\">0</th>\n",
       "      <th>0</th>\n",
       "      <td>30638.0</td>\n",
       "      <td>675.534695</td>\n",
       "      <td>470.570282</td>\n",
       "      <td>1.0</td>\n",
       "      <td>352.00</td>\n",
       "      <td>576.0</td>\n",
       "      <td>885.00</td>\n",
       "      <td>5957.0</td>\n",
       "    </tr>\n",
       "    <tr>\n",
       "      <th>1</th>\n",
       "      <td>65144.0</td>\n",
       "      <td>558.416800</td>\n",
       "      <td>422.941684</td>\n",
       "      <td>1.0</td>\n",
       "      <td>265.00</td>\n",
       "      <td>463.5</td>\n",
       "      <td>743.00</td>\n",
       "      <td>6264.0</td>\n",
       "    </tr>\n",
       "    <tr>\n",
       "      <th rowspan=\"2\" valign=\"top\">1</th>\n",
       "      <th>0</th>\n",
       "      <td>2192.0</td>\n",
       "      <td>855.416971</td>\n",
       "      <td>527.356298</td>\n",
       "      <td>50.0</td>\n",
       "      <td>495.75</td>\n",
       "      <td>736.0</td>\n",
       "      <td>1073.25</td>\n",
       "      <td>4451.0</td>\n",
       "    </tr>\n",
       "    <tr>\n",
       "      <th>1</th>\n",
       "      <td>3757.0</td>\n",
       "      <td>691.927602</td>\n",
       "      <td>433.886534</td>\n",
       "      <td>40.0</td>\n",
       "      <td>403.00</td>\n",
       "      <td>599.0</td>\n",
       "      <td>860.00</td>\n",
       "      <td>3509.0</td>\n",
       "    </tr>\n",
       "  </tbody>\n",
       "</table>\n",
       "</div>"
      ],
      "text/plain": [
       "                        count        mean         std   min     25%    50%  \\\n",
       "seafood_meal eathome                                                         \n",
       "0            0        30638.0  675.534695  470.570282   1.0  352.00  576.0   \n",
       "             1        65144.0  558.416800  422.941684   1.0  265.00  463.5   \n",
       "1            0         2192.0  855.416971  527.356298  50.0  495.75  736.0   \n",
       "             1         3757.0  691.927602  433.886534  40.0  403.00  599.0   \n",
       "\n",
       "                          75%     max  \n",
       "seafood_meal eathome                   \n",
       "0            0         885.00  5957.0  \n",
       "             1         743.00  6264.0  \n",
       "1            0        1073.25  4451.0  \n",
       "             1         860.00  3509.0  "
      ]
     },
     "execution_count": 72,
     "metadata": {},
     "output_type": "execute_result"
    }
   ],
   "source": [
    "#Seafood vs non seafood home and out\n",
    "df.groupby(['seafood_meal','eathome'])['DR1IKCAL'].describe()"
   ]
  },
  {
   "cell_type": "markdown",
   "metadata": {},
   "source": [
    "Table: Statistical distribution of the KCAL variable within the 'seafood meal' groups, split by 'eathome', with 0 KCAL meals removed."
   ]
  },
  {
   "cell_type": "code",
   "execution_count": 87,
   "metadata": {},
   "outputs": [
    {
     "data": {
      "text/plain": [
       "<matplotlib.axes._subplots.AxesSubplot at 0x7fe5b05e1040>"
      ]
     },
     "execution_count": 87,
     "metadata": {},
     "output_type": "execute_result"
    },
    {
     "data": {
      "image/png": "[encoded data removed]",
      "text/plain": [
       "<Figure size 432x288 with 1 Axes>"
      ]
     },
     "metadata": {
      "needs_background": "light"
     },
     "output_type": "display_data"
    }
   ],
   "source": [
    "df.boxplot(column='DR1IKCAL',by=['seafood_meal','eathome'],rot=90)"
   ]
  },
  {
   "cell_type": "markdown",
   "metadata": {},
   "source": [
    "Plot: Boxplot of meal calories distribution with meals that are 0 KCAL removed, split by 'seafood meal' and 'eathome' groups. "
   ]
  },
  {
   "cell_type": "markdown",
   "metadata": {},
   "source": [
    "**Section 1: Meal Energy Grouping**\n",
    "\n",
    "Create meal energy grouping based on quantiles from the 'KCAL' variable."
   ]
  },
  {
   "cell_type": "code",
   "execution_count": 73,
   "metadata": {},
   "outputs": [
    {
     "data": {
      "text/html": [
       "<div>\n",
       "<style scoped>\n",
       "    .dataframe tbody tr th:only-of-type {\n",
       "        vertical-align: middle;\n",
       "    }\n",
       "\n",
       "    .dataframe tbody tr th {\n",
       "        vertical-align: top;\n",
       "    }\n",
       "\n",
       "    .dataframe thead th {\n",
       "        text-align: right;\n",
       "    }\n",
       "</style>\n",
       "<table border=\"1\" class=\"dataframe\">\n",
       "  <thead>\n",
       "    <tr style=\"text-align: right;\">\n",
       "      <th></th>\n",
       "      <th>SEQN</th>\n",
       "      <th>DR1IKCAL</th>\n",
       "      <th>meal_energy</th>\n",
       "    </tr>\n",
       "  </thead>\n",
       "  <tbody>\n",
       "    <tr>\n",
       "      <th>0</th>\n",
       "      <td>31127</td>\n",
       "      <td>447.0</td>\n",
       "      <td>Medium-Low</td>\n",
       "    </tr>\n",
       "    <tr>\n",
       "      <th>1</th>\n",
       "      <td>31127</td>\n",
       "      <td>264.0</td>\n",
       "      <td>Low</td>\n",
       "    </tr>\n",
       "    <tr>\n",
       "      <th>2</th>\n",
       "      <td>31128</td>\n",
       "      <td>861.0</td>\n",
       "      <td>High</td>\n",
       "    </tr>\n",
       "    <tr>\n",
       "      <th>3</th>\n",
       "      <td>31129</td>\n",
       "      <td>867.0</td>\n",
       "      <td>High</td>\n",
       "    </tr>\n",
       "    <tr>\n",
       "      <th>4</th>\n",
       "      <td>31129</td>\n",
       "      <td>1150.0</td>\n",
       "      <td>High</td>\n",
       "    </tr>\n",
       "    <tr>\n",
       "      <th>5</th>\n",
       "      <td>31131</td>\n",
       "      <td>253.0</td>\n",
       "      <td>Low</td>\n",
       "    </tr>\n",
       "    <tr>\n",
       "      <th>6</th>\n",
       "      <td>31131</td>\n",
       "      <td>88.0</td>\n",
       "      <td>Low</td>\n",
       "    </tr>\n",
       "    <tr>\n",
       "      <th>7</th>\n",
       "      <td>31132</td>\n",
       "      <td>130.0</td>\n",
       "      <td>Low</td>\n",
       "    </tr>\n",
       "    <tr>\n",
       "      <th>8</th>\n",
       "      <td>31132</td>\n",
       "      <td>836.0</td>\n",
       "      <td>High</td>\n",
       "    </tr>\n",
       "    <tr>\n",
       "      <th>9</th>\n",
       "      <td>31132</td>\n",
       "      <td>491.0</td>\n",
       "      <td>Medium-Low</td>\n",
       "    </tr>\n",
       "    <tr>\n",
       "      <th>10</th>\n",
       "      <td>31133</td>\n",
       "      <td>843.0</td>\n",
       "      <td>High</td>\n",
       "    </tr>\n",
       "    <tr>\n",
       "      <th>11</th>\n",
       "      <td>31133</td>\n",
       "      <td>448.0</td>\n",
       "      <td>Medium-Low</td>\n",
       "    </tr>\n",
       "    <tr>\n",
       "      <th>12</th>\n",
       "      <td>31134</td>\n",
       "      <td>963.0</td>\n",
       "      <td>High</td>\n",
       "    </tr>\n",
       "    <tr>\n",
       "      <th>13</th>\n",
       "      <td>31134</td>\n",
       "      <td>1181.0</td>\n",
       "      <td>High</td>\n",
       "    </tr>\n",
       "    <tr>\n",
       "      <th>14</th>\n",
       "      <td>31135</td>\n",
       "      <td>332.0</td>\n",
       "      <td>Medium-Low</td>\n",
       "    </tr>\n",
       "    <tr>\n",
       "      <th>15</th>\n",
       "      <td>31135</td>\n",
       "      <td>501.0</td>\n",
       "      <td>Medium-Low</td>\n",
       "    </tr>\n",
       "    <tr>\n",
       "      <th>16</th>\n",
       "      <td>31137</td>\n",
       "      <td>720.0</td>\n",
       "      <td>Medium-High</td>\n",
       "    </tr>\n",
       "    <tr>\n",
       "      <th>17</th>\n",
       "      <td>31137</td>\n",
       "      <td>813.0</td>\n",
       "      <td>High</td>\n",
       "    </tr>\n",
       "    <tr>\n",
       "      <th>18</th>\n",
       "      <td>31138</td>\n",
       "      <td>314.0</td>\n",
       "      <td>Medium-Low</td>\n",
       "    </tr>\n",
       "    <tr>\n",
       "      <th>19</th>\n",
       "      <td>31138</td>\n",
       "      <td>204.0</td>\n",
       "      <td>Low</td>\n",
       "    </tr>\n",
       "  </tbody>\n",
       "</table>\n",
       "</div>"
      ],
      "text/plain": [
       "     SEQN  DR1IKCAL  meal_energy\n",
       "0   31127     447.0   Medium-Low\n",
       "1   31127     264.0          Low\n",
       "2   31128     861.0         High\n",
       "3   31129     867.0         High\n",
       "4   31129    1150.0         High\n",
       "5   31131     253.0          Low\n",
       "6   31131      88.0          Low\n",
       "7   31132     130.0          Low\n",
       "8   31132     836.0         High\n",
       "9   31132     491.0   Medium-Low\n",
       "10  31133     843.0         High\n",
       "11  31133     448.0   Medium-Low\n",
       "12  31134     963.0         High\n",
       "13  31134    1181.0         High\n",
       "14  31135     332.0   Medium-Low\n",
       "15  31135     501.0   Medium-Low\n",
       "16  31137     720.0  Medium-High\n",
       "17  31137     813.0         High\n",
       "18  31138     314.0   Medium-Low\n",
       "19  31138     204.0          Low"
      ]
     },
     "execution_count": 73,
     "metadata": {},
     "output_type": "execute_result"
    }
   ],
   "source": [
    "#Create meal energy category based on quantiles from KCAL\n",
    "df.loc[df['DR1IKCAL'] < df['DR1IKCAL'].describe()['25%'], 'meal_energy'] = \"Low\"\n",
    "df.loc[(df['DR1IKCAL'] > df['DR1IKCAL'].describe()['25%']) \n",
    "       & (df['DR1IKCAL'] < df['DR1IKCAL'].describe()['50%']), 'meal_energy'] = \"Medium-Low\"\n",
    "df.loc[(df['DR1IKCAL'] > df['DR1IKCAL'].describe()['50%']) \n",
    "       & (df['DR1IKCAL'] < df['DR1IKCAL'].describe()['75%']), 'meal_energy'] = \"Medium-High\"\n",
    "df.loc[df['DR1IKCAL'] > df['DR1IKCAL'].describe()['75%'], 'meal_energy'] = \"High\"\n",
    "\n",
    "#Display top of new meal energy category\n",
    "df[['SEQN', 'DR1IKCAL','meal_energy']].head(20)"
   ]
  },
  {
   "cell_type": "markdown",
   "metadata": {},
   "source": [
    "Table: Example of proposed meal energy categories."
   ]
  },
  {
   "cell_type": "markdown",
   "metadata": {},
   "source": [
    "**Section 1: Questions**\n",
    "\n",
    "1. Why are there so many meals with 0 KCAL?\n",
    "2. Why are the KCAL values so large? Looking at the statistics, these seem more like calories instead of kilo-calories.\n",
    "3. Is the grouping method for this variable adequate?"
   ]
  },
  {
   "cell_type": "markdown",
   "metadata": {},
   "source": [
    "**Section 2: FPED Component Statistics**"
   ]
  },
  {
   "cell_type": "code",
   "execution_count": 74,
   "metadata": {},
   "outputs": [
    {
     "data": {
      "text/html": [
       "<div>\n",
       "<style scoped>\n",
       "    .dataframe tbody tr th:only-of-type {\n",
       "        vertical-align: middle;\n",
       "    }\n",
       "\n",
       "    .dataframe tbody tr th {\n",
       "        vertical-align: top;\n",
       "    }\n",
       "\n",
       "    .dataframe thead th {\n",
       "        text-align: right;\n",
       "    }\n",
       "</style>\n",
       "<table border=\"1\" class=\"dataframe\">\n",
       "  <thead>\n",
       "    <tr style=\"text-align: right;\">\n",
       "      <th></th>\n",
       "      <th>F_TOTAL</th>\n",
       "      <th>V_TOTAL</th>\n",
       "      <th>G_TOTAL</th>\n",
       "      <th>D_TOTAL</th>\n",
       "      <th>OILS</th>\n",
       "      <th>SOLID_FATS</th>\n",
       "      <th>ADD_SUGARS</th>\n",
       "    </tr>\n",
       "  </thead>\n",
       "  <tbody>\n",
       "    <tr>\n",
       "      <th>count</th>\n",
       "      <td>101731.000000</td>\n",
       "      <td>101731.000000</td>\n",
       "      <td>101731.000000</td>\n",
       "      <td>101731.000000</td>\n",
       "      <td>101731.000000</td>\n",
       "      <td>101731.000000</td>\n",
       "      <td>101731.000000</td>\n",
       "    </tr>\n",
       "    <tr>\n",
       "      <th>mean</th>\n",
       "      <td>0.190867</td>\n",
       "      <td>0.539173</td>\n",
       "      <td>2.096162</td>\n",
       "      <td>0.439611</td>\n",
       "      <td>7.444314</td>\n",
       "      <td>10.615657</td>\n",
       "      <td>3.896764</td>\n",
       "    </tr>\n",
       "    <tr>\n",
       "      <th>std</th>\n",
       "      <td>0.517877</td>\n",
       "      <td>0.727561</td>\n",
       "      <td>2.222114</td>\n",
       "      <td>0.717852</td>\n",
       "      <td>10.633179</td>\n",
       "      <td>13.289950</td>\n",
       "      <td>5.863417</td>\n",
       "    </tr>\n",
       "    <tr>\n",
       "      <th>min</th>\n",
       "      <td>0.000000</td>\n",
       "      <td>0.000000</td>\n",
       "      <td>0.000000</td>\n",
       "      <td>0.000000</td>\n",
       "      <td>0.000000</td>\n",
       "      <td>0.000000</td>\n",
       "      <td>0.000000</td>\n",
       "    </tr>\n",
       "    <tr>\n",
       "      <th>25%</th>\n",
       "      <td>0.000000</td>\n",
       "      <td>0.000000</td>\n",
       "      <td>0.560000</td>\n",
       "      <td>0.000000</td>\n",
       "      <td>0.350000</td>\n",
       "      <td>1.210000</td>\n",
       "      <td>0.030000</td>\n",
       "    </tr>\n",
       "    <tr>\n",
       "      <th>50%</th>\n",
       "      <td>0.000000</td>\n",
       "      <td>0.290000</td>\n",
       "      <td>1.670000</td>\n",
       "      <td>0.070000</td>\n",
       "      <td>3.510000</td>\n",
       "      <td>6.440000</td>\n",
       "      <td>1.310000</td>\n",
       "    </tr>\n",
       "    <tr>\n",
       "      <th>75%</th>\n",
       "      <td>0.040000</td>\n",
       "      <td>0.790000</td>\n",
       "      <td>2.870000</td>\n",
       "      <td>0.670000</td>\n",
       "      <td>10.330000</td>\n",
       "      <td>14.920000</td>\n",
       "      <td>5.720000</td>\n",
       "    </tr>\n",
       "    <tr>\n",
       "      <th>max</th>\n",
       "      <td>19.640000</td>\n",
       "      <td>28.700000</td>\n",
       "      <td>56.650000</td>\n",
       "      <td>14.250000</td>\n",
       "      <td>271.030000</td>\n",
       "      <td>221.470000</td>\n",
       "      <td>128.280000</td>\n",
       "    </tr>\n",
       "  </tbody>\n",
       "</table>\n",
       "</div>"
      ],
      "text/plain": [
       "             F_TOTAL        V_TOTAL        G_TOTAL        D_TOTAL  \\\n",
       "count  101731.000000  101731.000000  101731.000000  101731.000000   \n",
       "mean        0.190867       0.539173       2.096162       0.439611   \n",
       "std         0.517877       0.727561       2.222114       0.717852   \n",
       "min         0.000000       0.000000       0.000000       0.000000   \n",
       "25%         0.000000       0.000000       0.560000       0.000000   \n",
       "50%         0.000000       0.290000       1.670000       0.070000   \n",
       "75%         0.040000       0.790000       2.870000       0.670000   \n",
       "max        19.640000      28.700000      56.650000      14.250000   \n",
       "\n",
       "                OILS     SOLID_FATS     ADD_SUGARS  \n",
       "count  101731.000000  101731.000000  101731.000000  \n",
       "mean        7.444314      10.615657       3.896764  \n",
       "std        10.633179      13.289950       5.863417  \n",
       "min         0.000000       0.000000       0.000000  \n",
       "25%         0.350000       1.210000       0.030000  \n",
       "50%         3.510000       6.440000       1.310000  \n",
       "75%        10.330000      14.920000       5.720000  \n",
       "max       271.030000     221.470000     128.280000  "
      ]
     },
     "execution_count": 74,
     "metadata": {},
     "output_type": "execute_result"
    }
   ],
   "source": [
    "#Create a list of the high level food components, as defined in the FPED\n",
    "#Fruit, Vegetables, Grains, Protein Foods, and Dairy components\n",
    "#Include oils, fats, and sugars at this level.\n",
    "food_cmp_level1 = ['F_TOTAL','V_TOTAL','G_TOTAL','D_TOTAL','OILS', \n",
    "                   'SOLID_FATS', 'ADD_SUGARS']\n",
    "\n",
    "\n",
    "df[food_cmp_level1].describe()"
   ]
  },
  {
   "cell_type": "markdown",
   "metadata": {},
   "source": [
    "Table: statistical distribution of the Level 1 components."
   ]
  },
  {
   "cell_type": "code",
   "execution_count": 75,
   "metadata": {},
   "outputs": [
    {
     "data": {
      "text/plain": [
       "<matplotlib.axes._subplots.AxesSubplot at 0x7fe5cbe00310>"
      ]
     },
     "execution_count": 75,
     "metadata": {},
     "output_type": "execute_result"
    },
    {
     "data": {
      "image/png": "[encoded data removed]",
      "text/plain": [
       "<Figure size 432x288 with 1 Axes>"
      ]
     },
     "metadata": {
      "needs_background": "light"
     },
     "output_type": "display_data"
    }
   ],
   "source": [
    "df[food_cmp_level1].boxplot(rot=90)"
   ]
  },
  {
   "cell_type": "markdown",
   "metadata": {},
   "source": [
    "Plot: Boxplot of Level 1 components distribution. "
   ]
  },
  {
   "cell_type": "code",
   "execution_count": 76,
   "metadata": {},
   "outputs": [],
   "source": [
    "zero_count_table = []\n",
    "for var in food_cmp_level1:\n",
    "    zero_length = len(df[df[var]==0])\n",
    "    non_zero_length = len(df[df[var]!=0])\n",
    "    zero_count_table.append([var, zero_length, non_zero_length, round((100*zero_length)/len(df),2)])\n",
    "\n",
    "zero_count_table = pd.DataFrame(zero_count_table)\n",
    "zero_count_table.columns = ['Component', 'Num Zero', 'Num Non Zero', 'Percent Zero']"
   ]
  },
  {
   "cell_type": "code",
   "execution_count": 77,
   "metadata": {},
   "outputs": [
    {
     "data": {
      "text/plain": [
       "<matplotlib.axes._subplots.AxesSubplot at 0x7fe5d036e220>"
      ]
     },
     "execution_count": 77,
     "metadata": {},
     "output_type": "execute_result"
    },
    {
     "data": {
      "image/png": "[encoded data removed]",
      "text/plain": [
       "<Figure size 432x288 with 1 Axes>"
      ]
     },
     "metadata": {
      "needs_background": "light"
     },
     "output_type": "display_data"
    }
   ],
   "source": [
    "zero_count_table.sort_values(by='Percent Zero').plot.bar(x='Component',y='Percent Zero')"
   ]
  },
  {
   "cell_type": "markdown",
   "metadata": {},
   "source": [
    "Plot: Percentage of 0's count within Level 1 components. "
   ]
  },
  {
   "cell_type": "code",
   "execution_count": 78,
   "metadata": {},
   "outputs": [
    {
     "data": {
      "text/html": [
       "<div>\n",
       "<style scoped>\n",
       "    .dataframe tbody tr th:only-of-type {\n",
       "        vertical-align: middle;\n",
       "    }\n",
       "\n",
       "    .dataframe tbody tr th {\n",
       "        vertical-align: top;\n",
       "    }\n",
       "\n",
       "    .dataframe thead th {\n",
       "        text-align: right;\n",
       "    }\n",
       "</style>\n",
       "<table border=\"1\" class=\"dataframe\">\n",
       "  <thead>\n",
       "    <tr style=\"text-align: right;\">\n",
       "      <th></th>\n",
       "      <th>F_CITMLB</th>\n",
       "      <th>F_OTHER</th>\n",
       "      <th>F_JUICE</th>\n",
       "      <th>V_DRKGR</th>\n",
       "      <th>V_REDOR_TOMATO</th>\n",
       "      <th>V_REDOR_OTHER</th>\n",
       "      <th>V_STARCHY_POTATO</th>\n",
       "      <th>V_STARCHY_OTHER</th>\n",
       "      <th>V_OTHER</th>\n",
       "      <th>V_LEGUMES</th>\n",
       "      <th>G_WHOLE</th>\n",
       "      <th>G_REFINED</th>\n",
       "      <th>PF_EGGS</th>\n",
       "      <th>PF_SOY</th>\n",
       "      <th>PF_NUTSDS</th>\n",
       "      <th>PF_LEGUMES</th>\n",
       "      <th>D_MILK</th>\n",
       "      <th>D_YOGURT</th>\n",
       "      <th>D_CHEESE</th>\n",
       "    </tr>\n",
       "  </thead>\n",
       "  <tbody>\n",
       "    <tr>\n",
       "      <th>count</th>\n",
       "      <td>101731.000000</td>\n",
       "      <td>101731.000000</td>\n",
       "      <td>101731.000000</td>\n",
       "      <td>101731.000000</td>\n",
       "      <td>101731.000000</td>\n",
       "      <td>101731.000000</td>\n",
       "      <td>101731.000000</td>\n",
       "      <td>101731.000000</td>\n",
       "      <td>101731.000000</td>\n",
       "      <td>101731.000000</td>\n",
       "      <td>101731.000000</td>\n",
       "      <td>101731.000000</td>\n",
       "      <td>101731.000000</td>\n",
       "      <td>101731.000000</td>\n",
       "      <td>101731.000000</td>\n",
       "      <td>101731.000000</td>\n",
       "      <td>101731.000000</td>\n",
       "      <td>101731.000000</td>\n",
       "      <td>101731.000000</td>\n",
       "    </tr>\n",
       "    <tr>\n",
       "      <th>mean</th>\n",
       "      <td>0.036061</td>\n",
       "      <td>0.083847</td>\n",
       "      <td>0.070955</td>\n",
       "      <td>0.046066</td>\n",
       "      <td>0.113322</td>\n",
       "      <td>0.032593</td>\n",
       "      <td>0.123518</td>\n",
       "      <td>0.034165</td>\n",
       "      <td>0.189509</td>\n",
       "      <td>0.050802</td>\n",
       "      <td>0.143051</td>\n",
       "      <td>1.953103</td>\n",
       "      <td>0.092461</td>\n",
       "      <td>0.015541</td>\n",
       "      <td>0.073137</td>\n",
       "      <td>0.203421</td>\n",
       "      <td>0.162978</td>\n",
       "      <td>0.008339</td>\n",
       "      <td>0.265339</td>\n",
       "    </tr>\n",
       "    <tr>\n",
       "      <th>std</th>\n",
       "      <td>0.266438</td>\n",
       "      <td>0.315651</td>\n",
       "      <td>0.287517</td>\n",
       "      <td>0.211659</td>\n",
       "      <td>0.233921</td>\n",
       "      <td>0.127866</td>\n",
       "      <td>0.326874</td>\n",
       "      <td>0.156891</td>\n",
       "      <td>0.400805</td>\n",
       "      <td>0.210966</td>\n",
       "      <td>0.534355</td>\n",
       "      <td>2.202882</td>\n",
       "      <td>0.362471</td>\n",
       "      <td>0.163278</td>\n",
       "      <td>0.529916</td>\n",
       "      <td>0.844649</td>\n",
       "      <td>0.417030</td>\n",
       "      <td>0.074552</td>\n",
       "      <td>0.580337</td>\n",
       "    </tr>\n",
       "    <tr>\n",
       "      <th>min</th>\n",
       "      <td>0.000000</td>\n",
       "      <td>0.000000</td>\n",
       "      <td>0.000000</td>\n",
       "      <td>0.000000</td>\n",
       "      <td>0.000000</td>\n",
       "      <td>0.000000</td>\n",
       "      <td>0.000000</td>\n",
       "      <td>0.000000</td>\n",
       "      <td>0.000000</td>\n",
       "      <td>0.000000</td>\n",
       "      <td>0.000000</td>\n",
       "      <td>0.000000</td>\n",
       "      <td>0.000000</td>\n",
       "      <td>0.000000</td>\n",
       "      <td>0.000000</td>\n",
       "      <td>0.000000</td>\n",
       "      <td>0.000000</td>\n",
       "      <td>0.000000</td>\n",
       "      <td>0.000000</td>\n",
       "    </tr>\n",
       "    <tr>\n",
       "      <th>25%</th>\n",
       "      <td>0.000000</td>\n",
       "      <td>0.000000</td>\n",
       "      <td>0.000000</td>\n",
       "      <td>0.000000</td>\n",
       "      <td>0.000000</td>\n",
       "      <td>0.000000</td>\n",
       "      <td>0.000000</td>\n",
       "      <td>0.000000</td>\n",
       "      <td>0.000000</td>\n",
       "      <td>0.000000</td>\n",
       "      <td>0.000000</td>\n",
       "      <td>0.360000</td>\n",
       "      <td>0.000000</td>\n",
       "      <td>0.000000</td>\n",
       "      <td>0.000000</td>\n",
       "      <td>0.000000</td>\n",
       "      <td>0.000000</td>\n",
       "      <td>0.000000</td>\n",
       "      <td>0.000000</td>\n",
       "    </tr>\n",
       "    <tr>\n",
       "      <th>50%</th>\n",
       "      <td>0.000000</td>\n",
       "      <td>0.000000</td>\n",
       "      <td>0.000000</td>\n",
       "      <td>0.000000</td>\n",
       "      <td>0.000000</td>\n",
       "      <td>0.000000</td>\n",
       "      <td>0.000000</td>\n",
       "      <td>0.000000</td>\n",
       "      <td>0.000000</td>\n",
       "      <td>0.000000</td>\n",
       "      <td>0.000000</td>\n",
       "      <td>1.440000</td>\n",
       "      <td>0.000000</td>\n",
       "      <td>0.000000</td>\n",
       "      <td>0.000000</td>\n",
       "      <td>0.000000</td>\n",
       "      <td>0.000000</td>\n",
       "      <td>0.000000</td>\n",
       "      <td>0.000000</td>\n",
       "    </tr>\n",
       "    <tr>\n",
       "      <th>75%</th>\n",
       "      <td>0.000000</td>\n",
       "      <td>0.000000</td>\n",
       "      <td>0.000000</td>\n",
       "      <td>0.000000</td>\n",
       "      <td>0.130000</td>\n",
       "      <td>0.000000</td>\n",
       "      <td>0.000000</td>\n",
       "      <td>0.000000</td>\n",
       "      <td>0.210000</td>\n",
       "      <td>0.000000</td>\n",
       "      <td>0.000000</td>\n",
       "      <td>2.710000</td>\n",
       "      <td>0.020000</td>\n",
       "      <td>0.000000</td>\n",
       "      <td>0.000000</td>\n",
       "      <td>0.000000</td>\n",
       "      <td>0.060000</td>\n",
       "      <td>0.000000</td>\n",
       "      <td>0.320000</td>\n",
       "    </tr>\n",
       "    <tr>\n",
       "      <th>max</th>\n",
       "      <td>18.940000</td>\n",
       "      <td>8.280000</td>\n",
       "      <td>7.970000</td>\n",
       "      <td>6.400000</td>\n",
       "      <td>5.030000</td>\n",
       "      <td>3.970000</td>\n",
       "      <td>6.760000</td>\n",
       "      <td>6.580000</td>\n",
       "      <td>28.700000</td>\n",
       "      <td>6.730000</td>\n",
       "      <td>22.550000</td>\n",
       "      <td>56.650000</td>\n",
       "      <td>9.600000</td>\n",
       "      <td>11.910000</td>\n",
       "      <td>48.000000</td>\n",
       "      <td>27.050000</td>\n",
       "      <td>8.040000</td>\n",
       "      <td>2.760000</td>\n",
       "      <td>14.250000</td>\n",
       "    </tr>\n",
       "  </tbody>\n",
       "</table>\n",
       "</div>"
      ],
      "text/plain": [
       "            F_CITMLB        F_OTHER        F_JUICE        V_DRKGR  \\\n",
       "count  101731.000000  101731.000000  101731.000000  101731.000000   \n",
       "mean        0.036061       0.083847       0.070955       0.046066   \n",
       "std         0.266438       0.315651       0.287517       0.211659   \n",
       "min         0.000000       0.000000       0.000000       0.000000   \n",
       "25%         0.000000       0.000000       0.000000       0.000000   \n",
       "50%         0.000000       0.000000       0.000000       0.000000   \n",
       "75%         0.000000       0.000000       0.000000       0.000000   \n",
       "max        18.940000       8.280000       7.970000       6.400000   \n",
       "\n",
       "       V_REDOR_TOMATO  V_REDOR_OTHER  V_STARCHY_POTATO  V_STARCHY_OTHER  \\\n",
       "count   101731.000000  101731.000000     101731.000000    101731.000000   \n",
       "mean         0.113322       0.032593          0.123518         0.034165   \n",
       "std          0.233921       0.127866          0.326874         0.156891   \n",
       "min          0.000000       0.000000          0.000000         0.000000   \n",
       "25%          0.000000       0.000000          0.000000         0.000000   \n",
       "50%          0.000000       0.000000          0.000000         0.000000   \n",
       "75%          0.130000       0.000000          0.000000         0.000000   \n",
       "max          5.030000       3.970000          6.760000         6.580000   \n",
       "\n",
       "             V_OTHER      V_LEGUMES        G_WHOLE      G_REFINED  \\\n",
       "count  101731.000000  101731.000000  101731.000000  101731.000000   \n",
       "mean        0.189509       0.050802       0.143051       1.953103   \n",
       "std         0.400805       0.210966       0.534355       2.202882   \n",
       "min         0.000000       0.000000       0.000000       0.000000   \n",
       "25%         0.000000       0.000000       0.000000       0.360000   \n",
       "50%         0.000000       0.000000       0.000000       1.440000   \n",
       "75%         0.210000       0.000000       0.000000       2.710000   \n",
       "max        28.700000       6.730000      22.550000      56.650000   \n",
       "\n",
       "             PF_EGGS         PF_SOY      PF_NUTSDS     PF_LEGUMES  \\\n",
       "count  101731.000000  101731.000000  101731.000000  101731.000000   \n",
       "mean        0.092461       0.015541       0.073137       0.203421   \n",
       "std         0.362471       0.163278       0.529916       0.844649   \n",
       "min         0.000000       0.000000       0.000000       0.000000   \n",
       "25%         0.000000       0.000000       0.000000       0.000000   \n",
       "50%         0.000000       0.000000       0.000000       0.000000   \n",
       "75%         0.020000       0.000000       0.000000       0.000000   \n",
       "max         9.600000      11.910000      48.000000      27.050000   \n",
       "\n",
       "              D_MILK       D_YOGURT       D_CHEESE  \n",
       "count  101731.000000  101731.000000  101731.000000  \n",
       "mean        0.162978       0.008339       0.265339  \n",
       "std         0.417030       0.074552       0.580337  \n",
       "min         0.000000       0.000000       0.000000  \n",
       "25%         0.000000       0.000000       0.000000  \n",
       "50%         0.000000       0.000000       0.000000  \n",
       "75%         0.060000       0.000000       0.320000  \n",
       "max         8.040000       2.760000      14.250000  "
      ]
     },
     "execution_count": 78,
     "metadata": {},
     "output_type": "execute_result"
    }
   ],
   "source": [
    "food_cmp_level5 = ['F_CITMLB', 'F_OTHER', 'F_JUICE', \n",
    "                   'V_DRKGR', 'V_REDOR_TOMATO', 'V_REDOR_OTHER', 'V_STARCHY_POTATO', \n",
    "                   'V_STARCHY_OTHER', 'V_OTHER', 'V_LEGUMES', \n",
    "                   'G_WHOLE','G_REFINED', \n",
    "                   'PF_EGGS', 'PF_SOY', 'PF_NUTSDS', 'PF_LEGUMES', \n",
    "                   'D_MILK', 'D_YOGURT', 'D_CHEESE', \n",
    "                   'OILS', 'SOLID_FATS', 'ADD_SUGARS']  \n",
    "\n",
    "df[food_cmp_level5[:-3]].describe()"
   ]
  },
  {
   "cell_type": "markdown",
   "metadata": {},
   "source": [
    "Table: statistical distribution of the Level 5 components."
   ]
  },
  {
   "cell_type": "code",
   "execution_count": 79,
   "metadata": {},
   "outputs": [
    {
     "data": {
      "text/plain": [
       "<matplotlib.axes._subplots.AxesSubplot at 0x7fe5d01c0f70>"
      ]
     },
     "execution_count": 79,
     "metadata": {},
     "output_type": "execute_result"
    },
    {
     "data": {
      "image/png": "[encoded data removed]",
      "text/plain": [
       "<Figure size 432x288 with 1 Axes>"
      ]
     },
     "metadata": {
      "needs_background": "light"
     },
     "output_type": "display_data"
    }
   ],
   "source": [
    "df[food_cmp_level5[:-3]].boxplot(rot=90)"
   ]
  },
  {
   "cell_type": "markdown",
   "metadata": {},
   "source": [
    "Plot: Boxplot of Level 5 components distribution. "
   ]
  },
  {
   "cell_type": "code",
   "execution_count": 80,
   "metadata": {},
   "outputs": [],
   "source": [
    "zero_count_table = []\n",
    "for var in food_cmp_level5[:-3]:\n",
    "    zero_length = len(df[df[var]==0])\n",
    "    non_zero_length = len(df[df[var]!=0])\n",
    "    zero_count_table.append([var, zero_length, non_zero_length, round((100*zero_length)/len(df),2)])\n",
    "\n",
    "zero_count_table = pd.DataFrame(zero_count_table)\n",
    "zero_count_table.columns = ['Component', 'Num Zero', 'Num Non Zero', 'Percent Zero']"
   ]
  },
  {
   "cell_type": "code",
   "execution_count": 81,
   "metadata": {},
   "outputs": [
    {
     "data": {
      "text/plain": [
       "<matplotlib.axes._subplots.AxesSubplot at 0x7fe5b2a8aa90>"
      ]
     },
     "execution_count": 81,
     "metadata": {},
     "output_type": "execute_result"
    },
    {
     "data": {
      "image/png": "[encoded data removed]",
      "text/plain": [
       "<Figure size 432x288 with 1 Axes>"
      ]
     },
     "metadata": {
      "needs_background": "light"
     },
     "output_type": "display_data"
    }
   ],
   "source": [
    "zero_count_table.sort_values(by='Percent Zero').plot.bar(x='Component',y='Percent Zero')"
   ]
  },
  {
   "cell_type": "markdown",
   "metadata": {},
   "source": [
    "Plot: Percentage of 0's count within Level 5 components. "
   ]
  },
  {
   "cell_type": "markdown",
   "metadata": {},
   "source": [
    "**Section 2: Questions**\n",
    "\n",
    "1. Would it be useful to use categories instead of quantities for the FPED components, due to the high number of 0's? The categories could be two, or more than two factors. For example, a two factor category could include: 'Yes' for any quantity > 0 and 'No' for quantities that are 0. A multi factor category could include: 'None' for any quantity that is 0, and the rest can be divided to 'Low', 'Medium', 'High', etc."
   ]
  },
  {
   "cell_type": "markdown",
   "metadata": {},
   "source": [
    "**Section 3: Meal Types**"
   ]
  },
  {
   "cell_type": "code",
   "execution_count": 128,
   "metadata": {},
   "outputs": [
    {
     "name": "stdout",
     "output_type": "stream",
     "text": [
      "Number of meals that contain meat: 65820\n",
      "Number of meals that contain seafood: 7709\n",
      "Number of meals that contain both meat and seafood: 2346\n",
      "Number of meals that contain no meat and no seafood: 31529\n"
     ]
    }
   ],
   "source": [
    "df['meat_total'] = df['PF_MEAT']+df['PF_POULT']+df['PF_ORGAN']+df['PF_CUREDMEAT']\n",
    "meals_contain_meat = df[df['meat_total']>0]\n",
    "print(\"Number of meals that contain meat: \"+str(len(meals_contain_meat)))\n",
    "meals_contain_seafood = df[df['PF_SEAFD_TOT']>0]\n",
    "print(\"Number of meals that contain seafood: \"+str(len(meals_contain_seafood)))\n",
    "meals_contain_both = df[(df['PF_SEAFD_TOT']>0) & (df['meat_total']>0)]\n",
    "print(\"Number of meals that contain both meat and seafood: \"+str(len(meals_contain_both)))\n",
    "meals_contain_none = df[(df['PF_SEAFD_TOT']==0) & (df['meat_total']==0)]\n",
    "print(\"Number of meals that contain no meat and no seafood: \"+str(len(meals_contain_none)))"
   ]
  },
  {
   "cell_type": "code",
   "execution_count": 130,
   "metadata": {},
   "outputs": [
    {
     "data": {
      "text/plain": [
       "<matplotlib.axes._subplots.AxesSubplot at 0x7fe5a05a4c40>"
      ]
     },
     "execution_count": 130,
     "metadata": {},
     "output_type": "execute_result"
    },
    {
     "data": {
      "image/png": "[encoded data removed]",
      "text/plain": [
       "<Figure size 432x288 with 1 Axes>"
      ]
     },
     "metadata": {
      "needs_background": "light"
     },
     "output_type": "display_data"
    }
   ],
   "source": [
    "meals_contain_both.plot.scatter(x='meat_total', y='PF_SEAFD_TOT')"
   ]
  },
  {
   "cell_type": "markdown",
   "metadata": {},
   "source": [
    "The plot above is showing the meat and seafood quantities in meals that contain both. "
   ]
  },
  {
   "cell_type": "markdown",
   "metadata": {},
   "source": [
    "**Section 3: Questions**\n",
    "\n",
    "1. Can vegeterian meals be excluded and study focuses on seafood vs meat meals?\n",
    "2. Can meals that contain both seafood and meat be excluded? Or should they be classified based on some threshold?"
   ]
  }
 ],
 "metadata": {
  "kernelspec": {
   "display_name": "Python 3",
   "language": "python",
   "name": "python3"
  },
  "language_info": {
   "codemirror_mode": {
    "name": "ipython",
    "version": 3
   },
   "file_extension": ".py",
   "mimetype": "text/x-python",
   "name": "python",
   "nbconvert_exporter": "python",
   "pygments_lexer": "ipython3",
   "version": "3.8.3"
  }
 },
 "nbformat": 4,
 "nbformat_minor": 4
}
