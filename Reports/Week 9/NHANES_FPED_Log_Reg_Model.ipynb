{
 "cells": [
  {
   "cell_type": "markdown",
   "metadata": {},
   "source": [
    "**Objectives**\n",
    "\n",
    "Create and analyze a statistical machine learning model that provides explanatory information about the FPED components for two different classes: seafood meals and non-seafood meals. A logistic regression model is chosen due to its ability to provide such explanatory information of multiple variables among two different groups. The logistic regression model is set up such that the FPED components are used as the predictive variables to classify, or predict, whether a meal contains seafood or not. "
   ]
  },
  {
   "cell_type": "code",
   "execution_count": 34,
   "metadata": {},
   "outputs": [],
   "source": [
    "import pandas as pd\n",
    "from sklearn.model_selection import train_test_split\n",
    "from sklearn.linear_model import LogisticRegression\n",
    "from sklearn import linear_model\n",
    "from itertools import combinations\n",
    "import numpy as np\n",
    "import scipy.stats as stat\n",
    "import sys\n",
    "import time \n",
    "\n",
    "def nhanes_full_log_reg(df, fped_vars, var_combinatorial, batch_run, batch_num, \n",
    "                        batch_step, non_sfd_class_n, sfd_class_n, test_ratio):\n",
    "    \n",
    "    #Model execution start time\n",
    "    startTime = time.time()\n",
    "    #Create list of all FPED variable combinations if desired    \n",
    "    if (var_combinatorial == True):\n",
    "        cmb_output = sum([list(map(list, combinations(fped_vars , i))) for i in range(len(fped_vars ) + 1)], [])\n",
    "        cmb_output = cmb_output[1:]\n",
    "    else: \n",
    "        cmb_output = fped_vars\n",
    "\n",
    "    #Partition the list of FPED variable combinations with batch parameters, if batch run desired\n",
    "    if (batch_run == True):\n",
    "        #Obtain batch length and step through the indecies of the variable list\n",
    "        batch_len = int(len(cmb_output)/batch_num)\n",
    "        idx1 = 0 + batch_len*int(batch_step)\n",
    "        idx2 = batch_len + batch_len*int(batch_step)\n",
    "        cmb_output = cmb_output[idx1:idx2]\n",
    "\n",
    "    #This is the model fitting loop if combinatorial variable model selection is desired\n",
    "    if (var_combinatorial == True):\n",
    "        #Lists for storing the model prediction success rate and variable list\n",
    "        pred_sr = []\n",
    "        var_list = []\n",
    "        #Loops through the generate variable combinations\n",
    "        for var in cmb_output:\n",
    "            #Sample the seafood and non-seafood classes, create model input df\n",
    "            df_non_sfd = df[df['seafood_meal']==0].sample(n=non_sfd_class_n)\n",
    "            df_sfd = df[df['seafood_meal']==1].sample(n=sfd_class_n)\n",
    "            df_mdl = pd.concat([df_non_sfd, df_sfd])\n",
    "            #Add the classification target variable to the df input list\n",
    "            var.append('seafood_meal')\n",
    "            #Use variable combination selected by loop\n",
    "            df_mdl = df_mdl[var]\n",
    "            #Split the training and test data\n",
    "            X_train, X_test, y_train, y_test = train_test_split(df_mdl.drop(['seafood_meal'], axis=1), df_mdl['seafood_meal'], test_size=test_ratio)\n",
    "            #Fit the logistic regression model\n",
    "            log_reg = LogisticRegression()\n",
    "            log_reg.fit(X_train, y_train)\n",
    "            #Obtain predictions on test set and calculate success rate\n",
    "            y_pred = log_reg.predict(X_test)\n",
    "            n_correct = sum(y_pred == y_test)\n",
    "            sr = n_correct/len(y_pred)\n",
    "            #Add success rate and variables used to list for storing outside loop\n",
    "            pred_sr.append(sr)\n",
    "            var.remove('seafood_meal')\n",
    "            var_list.append(var)\n",
    "            var_idx = cmb_output.index(var)\n",
    "            progress_pct = round(100 * var_idx / len(cmb_output), 2)\n",
    "            #if (progress_pct%1==0):\n",
    "                #print(\"Progress: \"+str(progress_pct)+\" %\")\n",
    "        \n",
    "        #Calculate model execution time for combinatorial variable selection    \n",
    "        cmb_time = time.time() - startTime  \n",
    "        cmb_time_list = [cmb_time] * len(cmb_output)\n",
    "        cmb_time_df = pd.DataFrame(cmb_time_list)\n",
    "        cmb_time_df = cmb_time_df.rename({0: 'Runtime(Seconds)'}, axis=1)\n",
    "        #Create a dataframe with variables used, their success rate , and runtime   \n",
    "        pred_sr_df = pd.DataFrame(pred_sr)\n",
    "        pred_sr_df = pred_sr_df.rename({0: 'Success Rate'}, axis=1)\n",
    "        var_list_df = pd.DataFrame(var_list)\n",
    "        model_result = pd.concat([var_list_df, pred_sr_df, cmb_time_df], axis=1)\n",
    "        \n",
    "        \n",
    "        \n",
    "    #Condition if variable combination is not desired  \n",
    "    else:\n",
    "        #Sample the seafood and non-seafood classes, create model input df\n",
    "        df_non_sfd = df[df['seafood_meal']==0].sample(n=non_sfd_class_n)\n",
    "        df_sfd = df[df['seafood_meal']==1].sample(n=sfd_class_n)\n",
    "        df_mdl = pd.concat([df_non_sfd, df_sfd])\n",
    "        #Add the classification target variable to the df input list\n",
    "        fped_vars.append('seafood_meal')\n",
    "        #Use variable combination selected by loop\n",
    "        df_mdl = df_mdl[fped_vars]\n",
    "        #Split the training and test data\n",
    "        X_train, X_test, y_train, y_test = train_test_split(df_mdl.drop(['seafood_meal'], axis=1), df_mdl['seafood_meal'], test_size=test_ratio)\n",
    "        #Fit the logistic regression model\n",
    "        log_reg = LogisticRegression()\n",
    "        log_reg.fit(X_train, y_train)\n",
    "        #Obtain predictions on test set and calculate success rate\n",
    "        y_pred = log_reg.predict(X_test)\n",
    "        n_correct = sum(y_pred == y_test)\n",
    "        pred_sr = [str(n_correct/len(y_pred))]\n",
    "        #Calculate model execution time for combinatorial variable selection    \n",
    "        non_cmb_time = time.time() - startTime  \n",
    "        non_cmb_time_df = pd.DataFrame([non_cmb_time ])\n",
    "        non_cmb_time_df = non_cmb_time_df.rename({0: 'Runtime(Seconds)'}, axis=1)\n",
    "        #Create a dataframe with variables used and their success rate    \n",
    "        pred_sr_df = pd.DataFrame(pred_sr)\n",
    "        pred_sr_df = pred_sr_df.rename({0: 'Success Rate'}, axis=1)\n",
    "        var_list.remove('seafood_meal')\n",
    "        var_list_df = pd.DataFrame([fped_vars])\n",
    "        model_result = pd.concat([var_list_df, pred_sr_df, non_cmb_time_df], axis=1)\n",
    "    \n",
    "    #Returns result from model.     \n",
    "    return model_result\n",
    " "
   ]
  },
  {
   "cell_type": "markdown",
   "metadata": {},
   "source": [
    "**Model Selection**\n",
    "\n",
    "A model that provides an acceptable prediction accuracy rate is necessary to provide some confidence in the explanation power of the input data. As such, the objective is to find a model with an acceptable prediction accuracy, and use the selected features to provide some inferences about seafood vs non-seafood consumption in a typical meal. \n",
    "\n",
    "Since the model is more geared towards providing explainability of the FPED components, the typical regression model selection strategies of forward or backward stepwise for feature selection are not very useful in this case. This is because these methods will likely select feature based on the input order provided, potentially eliminating features that are otherwise beneficial for explainability. Therefore, a model evaluation method that evaluates as many combinations of features as possible is necessary to meet this objective. "
   ]
  },
  {
   "cell_type": "markdown",
   "metadata": {},
   "source": [
    "**Model Features**\n",
    "\n",
    "There are a total of 38 variables that make up the FPED components. This presents a challenge for building a solid logistic regression solution for this type of classification, due to the high dimensionality of the data. As such, it is important to find an acceptable balance between the number of features and the prediction accuracy of the model. The high number of features also presents a challenge for any combinatorial task that is used for model selection. With 38 features, there are a total of 2^38 = 2.75e^8 possible feature combinations. So the starting point for feature selection has to be reduced to a smaller number in order to address the computing requirements, which will require a strategic approach. The feature set starting point has been broken down into multiple levels as follows."
   ]
  },
  {
   "cell_type": "code",
   "execution_count": 19,
   "metadata": {
    "scrolled": true
   },
   "outputs": [
    {
     "name": "stdout",
     "output_type": "stream",
     "text": [
      "Number of features in L1: 7 = 128 possible combinations\n",
      "Number of features in L2: 16 = 65536 possible combinations\n",
      "Number of features in L3: 17 = 131072 possible combinations\n",
      "Number of features in L4: 20 = 1048576 possible combinations\n",
      "Number of features in L5: 22 = 4194304 possible combinations\n"
     ]
    }
   ],
   "source": [
    "#Create a list of the high level food components, as defined in the FPED\n",
    "#Fruit, Vegetables, Grains, Protein Foods, and Dairy components\n",
    "#Include oils, fats, and sugars at this level.\n",
    "food_cmp_level1 = ['F_TOTAL','V_TOTAL','G_TOTAL','D_TOTAL','OILS', \n",
    "                   'SOLID_FATS', 'ADD_SUGARS']\n",
    "\n",
    "#Level 2 contains the subcomponents of vegetables, grains, and dairy \n",
    "#Keep fruits at total level\n",
    "#Include oils, fats, and sugars at this level.\n",
    "food_cmp_level2 = ['F_TOTAL', \n",
    "                   'V_DRKGR', 'V_REDOR_TOMATO','V_REDOR_OTHER', 'V_STARCHY_POTATO', \n",
    "                   'V_STARCHY_OTHER', 'V_OTHER', 'V_LEGUMES', \n",
    "                   'G_WHOLE','G_REFINED', \n",
    "                   'D_MILK', 'D_YOGURT','D_CHEESE', \n",
    "                   'OILS', 'SOLID_FATS', 'ADD_SUGARS'] \n",
    "\n",
    "#Level 3 has all components from level2, \n",
    "#adding a generated total protein component other than meat and seafood\n",
    "food_cmp_level3 = ['F_TOTAL', \n",
    "                   'V_DRKGR', 'V_REDOR_TOMATO','V_REDOR_OTHER', 'V_STARCHY_POTATO', \n",
    "                   'V_STARCHY_OTHER', 'V_OTHER', 'V_LEGUMES', \n",
    "                   'G_WHOLE','G_REFINED', \n",
    "                   'PF_PLANT_D_TOTAL', \n",
    "                   'D_MILK', 'D_YOGURT','D_CHEESE', \n",
    "                   'OILS', 'SOLID_FATS', 'ADD_SUGARS'] \n",
    "\n",
    "#Level 4 has all components from level3, \n",
    "#breaking down the total protein component\n",
    "food_cmp_level4 = ['F_TOTAL', \n",
    "                   'V_DRKGR', 'V_REDOR_TOMATO','V_REDOR_OTHER', 'V_STARCHY_POTATO', \n",
    "                   'V_STARCHY_OTHER', 'V_OTHER', 'V_LEGUMES', \n",
    "                   'G_WHOLE','G_REFINED', \n",
    "                   'PF_EGGS', 'PF_SOY', 'PF_NUTSDS', 'PF_LEGUMES', \n",
    "                   'D_MILK', 'D_YOGURT','D_CHEESE', \n",
    "                   'OILS', 'SOLID_FATS', 'ADD_SUGARS'] \n",
    "\n",
    "#Level 5 has all components of level4, but breaks the total fruit into subcomponents\n",
    "food_cmp_level5 = ['F_CITMLB', 'F_OTHER', 'F_JUICE', \n",
    "                   'V_DRKGR', 'V_REDOR_TOMATO', 'V_REDOR_OTHER', 'V_STARCHY_POTATO', \n",
    "                   'V_STARCHY_OTHER', 'V_OTHER', 'V_LEGUMES', \n",
    "                   'G_WHOLE','G_REFINED', \n",
    "                   'PF_EGGS', 'PF_SOY', 'PF_NUTSDS', 'PF_LEGUMES', \n",
    "                   'D_MILK', 'D_YOGURT', 'D_CHEESE', \n",
    "                   'OILS', 'SOLID_FATS', 'ADD_SUGARS']  \n",
    "\n",
    "food_cmp_level1_len = len(food_cmp_level1)\n",
    "food_cmp_level2_len = len(food_cmp_level2)\n",
    "food_cmp_level3_len = len(food_cmp_level3)\n",
    "food_cmp_level4_len = len(food_cmp_level4)\n",
    "food_cmp_level5_len = len(food_cmp_level5)\n",
    "food_cmp_level1_cmb = 2**food_cmp_level1_len\n",
    "food_cmp_level2_cmb = 2**food_cmp_level2_len\n",
    "food_cmp_level3_cmb = 2**food_cmp_level3_len\n",
    "food_cmp_level4_cmb = 2**food_cmp_level4_len\n",
    "food_cmp_level5_cmb = 2**food_cmp_level5_len\n",
    "\n",
    "print(\"Number of features in L1: \"+str(food_cmp_level1_len)+\" = \"+str(food_cmp_level1_cmb)+\" possible combinations\")\n",
    "print(\"Number of features in L2: \"+str(food_cmp_level2_len)+\" = \"+str(food_cmp_level2_cmb)+\" possible combinations\")\n",
    "print(\"Number of features in L3: \"+str(food_cmp_level3_len)+\" = \"+str(food_cmp_level3_cmb)+\" possible combinations\")\n",
    "print(\"Number of features in L4: \"+str(food_cmp_level4_len)+\" = \"+str(food_cmp_level4_cmb)+\" possible combinations\")\n",
    "print(\"Number of features in L5: \"+str(food_cmp_level5_len)+\" = \"+str(food_cmp_level5_cmb)+\" possible combinations\")"
   ]
  },
  {
   "cell_type": "markdown",
   "metadata": {},
   "source": [
    "**Data Observations**\n",
    "\n",
    "This section explores the charactestics of the data observations, with the aim of identifying potential issues regarding the model fitting."
   ]
  },
  {
   "cell_type": "code",
   "execution_count": 20,
   "metadata": {},
   "outputs": [
    {
     "name": "stdout",
     "output_type": "stream",
     "text": [
      "The data frame contains a total of 102712 observations.\n",
      "The data frame contains a total of 5949 meals that contain seafood.\n",
      "The data frame contains a total of 96763 meals that do not contain seafood.\n",
      "The seafood class makes up 5.79% of observations.\n",
      "The seafood class makes up 94.21% of observations.\n"
     ]
    }
   ],
   "source": [
    "#Read the pre-processed dataframe, add total plant protein component included in level 3\n",
    "df = pd.read_csv('../../Data/nhanes_full_pre_proc.csv')\n",
    "df['PF_PLANT_D_TOTAL'] = df['PF_EGGS']+df['PF_SOY']+df['PF_NUTSDS']+df['PF_LEGUMES']\n",
    "\n",
    "#Obtain number of total observations\n",
    "n_obs_total = len(df)\n",
    "#Obtain number of observations in each class with ratios\n",
    "n_obs_sfd_class = len(df[df['seafood_meal']==1])\n",
    "n_obs_sfd_pct = round(100 * n_obs_sfd_class / n_obs_total, 2)\n",
    "n_obs_non_sfd_class = len(df[df['seafood_meal']==0])\n",
    "n_obs_non_sfd_pct = round(100 * n_obs_non_sfd_class / n_obs_total, 2)\n",
    "\n",
    "print(\"The data frame contains a total of \"+str(n_obs_total)+\" observations.\")\n",
    "print(\"The data frame contains a total of \"+str(n_obs_sfd_class)+\" meals that contain seafood.\")\n",
    "print(\"The data frame contains a total of \"+str(n_obs_non_sfd_class)+\" meals that do not contain seafood.\")\n",
    "print(\"The seafood class makes up \"+str(n_obs_sfd_pct)+\"% of observations.\")\n",
    "print(\"The seafood class makes up \"+str(n_obs_non_sfd_pct)+\"% of observations.\")"
   ]
  },
  {
   "cell_type": "markdown",
   "metadata": {},
   "source": [
    "This dataframe contains a high number of observations, and the classes are imbalanced. In order to address these issues, the same number of observations from each class will be sampled. N = 1000 seems like a reasonable starting point for each class, making N = 2000 for the model input. \n",
    "\n",
    "**Computational Constraints**\n",
    "\n",
    "A few exploratory runs of the model have been executed using the High Performance Computing (HPC) cluster at American University. Using N = 2000, the following runtimes were observed:\n",
    "\n",
    "Number of FPED features = 14, runtime = 1538 seconds = 25.6 minutes.\n",
    "\n",
    "Number of FPED features = 15, runtime = 2095 seconds = 34.9 minutes.\n",
    "\n",
    "Number of FPED features = 16, runtime = 4433 seconds = 73.4 minutes.\n",
    "\n",
    "Number of FPED features = 17, runtime = 9012 seconds = 150.2 minutes.\n",
    "\n",
    "\n",
    "The HPC runtime seems to follow the expontential growth trend for each added variable. So this can be used to predict runtime if a variable is added or removed from the combinatorial set. With this logic, a maximum number of features for an HPC task seems in the realm of 18-20 variables. Anything beyond this number will require a batch setup to make use of the parallel computing capability of the HPC. The logistic model function has included provisions for using batching in case this is required. \n",
    "\n",
    "**Model Fitting**\n",
    "\n",
    "Use all combinations from the level 1 features to fit a model, and obtain the prediction success rate on each run, using a 80% to 20% train/test split. "
   ]
  },
  {
   "cell_type": "code",
   "execution_count": 35,
   "metadata": {},
   "outputs": [
    {
     "name": "stdout",
     "output_type": "stream",
     "text": [
      "           0        1           2           3           4     5     6  \\\n",
      "92   V_TOTAL     OILS  SOLID_FATS  ADD_SUGARS        None  None  None   \n",
      "114  V_TOTAL  G_TOTAL     D_TOTAL        OILS  ADD_SUGARS  None  None   \n",
      "117  V_TOTAL  D_TOTAL        OILS  SOLID_FATS  ADD_SUGARS  None  None   \n",
      "53   G_TOTAL  D_TOTAL        OILS        None        None  None  None   \n",
      "83   V_TOTAL  G_TOTAL     D_TOTAL        OILS        None  None  None   \n",
      "98   F_TOTAL  V_TOTAL     G_TOTAL     D_TOTAL        OILS  None  None   \n",
      "51   V_TOTAL     OILS  ADD_SUGARS        None        None  None  None   \n",
      "116  V_TOTAL  G_TOTAL        OILS  SOLID_FATS  ADD_SUGARS  None  None   \n",
      "87   V_TOTAL  G_TOTAL        OILS  ADD_SUGARS        None  None  None   \n",
      "94   G_TOTAL  D_TOTAL        OILS  ADD_SUGARS        None  None  None   \n",
      "\n",
      "     Success Rate  Runtime(Seconds)  \n",
      "92         0.7025           4.10427  \n",
      "114        0.7025           4.10427  \n",
      "117        0.7025           4.10427  \n",
      "53         0.6925           4.10427  \n",
      "83         0.6925           4.10427  \n",
      "98         0.6900           4.10427  \n",
      "51         0.6875           4.10427  \n",
      "116        0.6825           4.10427  \n",
      "87         0.6825           4.10427  \n",
      "94         0.6825           4.10427  \n"
     ]
    }
   ],
   "source": [
    "model_res_df = nhanes_full_log_reg(df = df,\n",
    "                                       fped_vars = food_cmp_level1, \n",
    "                                        var_combinatorial = True, \n",
    "                                        batch_run = False, \n",
    "                                        batch_num = 2, \n",
    "                                        batch_step = 1, \n",
    "                                        non_sfd_class_n = 1000, \n",
    "                                        sfd_class_n = 1000, \n",
    "                                        test_ratio = 0.2)\n",
    "\n",
    "top_success_rate = model_res_df.sort_values(by=\"Success Rate\", ascending=False).head(10)\n",
    "print(top_success_rate)"
   ]
  },
  {
   "cell_type": "markdown",
   "metadata": {},
   "source": [
    "The table above is displaying the top ten results, based on success rate, from the combinations of features that were fit to the model. "
   ]
  },
  {
   "cell_type": "code",
   "execution_count": 36,
   "metadata": {},
   "outputs": [
    {
     "data": {
      "text/plain": [
       "<matplotlib.axes._subplots.AxesSubplot at 0x7fb2fe292640>"
      ]
     },
     "execution_count": 36,
     "metadata": {},
     "output_type": "execute_result"
    },
    {
     "data": {
      "image/png": "[encoded data removed]",
      "text/plain": [
       "<Figure size 432x288 with 1 Axes>"
      ]
     },
     "metadata": {
      "needs_background": "light"
     },
     "output_type": "display_data"
    }
   ],
   "source": [
    "model_res_df['Success Rate'].plot.kde()"
   ]
  },
  {
   "cell_type": "markdown",
   "metadata": {},
   "source": [
    "The plot above is showing the density of the success rate results, with the center just above the 0.6 prediction success rate. "
   ]
  },
  {
   "cell_type": "markdown",
   "metadata": {},
   "source": [
    "**Additional Runs**\n",
    "\n",
    "Insert results for L2 and L3 runs here."
   ]
  },
  {
   "cell_type": "markdown",
   "metadata": {},
   "source": [
    "**Conclusions/Recommendations**\n",
    "\n",
    "During exploratory runs, the model success rate seems a bit low. Additional runs are pending, but here are some recommendations for improvement:\n",
    "\n",
    "1. Explore the possibility of weighting the data to account for the survey design. This may improve the model success rate if there are indeed features that can distinguish between the food consumption habits of the participants.\n",
    "2. Address the issue with meals that contain both seafood and some other type of meat. Should this be considered a seafood meal?\n",
    "3. Can we exclude meals that are consumed outside the home? Is there a possibility that consumption patterns are similar for seafood vs non in a restaurant environment? Are participants who choose seafood as a health choice more likely to eat at home, providing better separation for this model fit?\n",
    "4. A tree based model can also be used for this type of problem. Tree based models provide some explanatory power through the tree branches, though they can be a bit a more complex to interpret and do not provide stastical odd ratios."
   ]
  }
 ],
 "metadata": {
  "kernelspec": {
   "display_name": "Python 3",
   "language": "python",
   "name": "python3"
  },
  "language_info": {
   "codemirror_mode": {
    "name": "ipython",
    "version": 3
   },
   "file_extension": ".py",
   "mimetype": "text/x-python",
   "name": "python",
   "nbconvert_exporter": "python",
   "pygments_lexer": "ipython3",
   "version": "3.8.3"
  }
 },
 "nbformat": 4,
 "nbformat_minor": 4
}
