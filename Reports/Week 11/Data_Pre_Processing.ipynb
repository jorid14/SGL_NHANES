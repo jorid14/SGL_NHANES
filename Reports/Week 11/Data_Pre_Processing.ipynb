{
 "cells": [
  {
   "cell_type": "markdown",
   "metadata": {},
   "source": [
    "**Objectives**\n",
    "\n",
    "Provide a description of the data pre processing steps. The final dataframe product is the input to the model evaluation steps."
   ]
  },
  {
   "cell_type": "markdown",
   "metadata": {},
   "source": [
    "**Section 1: Variable Selection**\n",
    "\n",
    "This section selects the variables that are relevant to the analysis. It uses a look up table of the NHANES variables from the input file. "
   ]
  },
  {
   "cell_type": "code",
   "execution_count": 59,
   "metadata": {},
   "outputs": [],
   "source": [
    "import pandas as pd\n",
    "import regex as re\n",
    "import warnings\n",
    "from pandas.core.common import SettingWithCopyWarning\n",
    "\n",
    "warnings.simplefilter(action=\"ignore\", category=SettingWithCopyWarning)\n",
    "\n",
    "\n",
    "#Read the NHANES full dataset\n",
    "nhanes_full = pd.read_csv('../../Data/nhanes_full.csv')\n",
    "\n",
    "'''\n",
    "Step #1: Remove columns that are not required, using the variable analysis lookup\n",
    "Original data set has 823012x86\n",
    "Transformed data set has 823012x50\n",
    "'''\n",
    "#Use the variable lookup to filter out variables for reducing the dataset\n",
    "variable_lookup_full = pd.read_csv('../../Analysis/Variable_Analysis_Lookup_NHANES_full.csv')\n",
    "#Pull out the priority 0 variables, which are dropped from the start\n",
    "var_full_pri_0 = variable_lookup_full[variable_lookup_full['Priority'] == 0]\n",
    "#Pull out the priority 2 variables, which are dropped from the start\n",
    "var_full_pri_2 = variable_lookup_full[variable_lookup_full['Priority'] == 2]\n",
    "#Pull out the priority 3 variables, which are dropped from the start\n",
    "var_full_pri_3 = variable_lookup_full[variable_lookup_full['Priority'] == 3]\n",
    "\n",
    "#The following variables have been deemed irrelevant for this analysis, so they are dropped.\n",
    "nhanes_full = nhanes_full.drop(var_full_pri_0['Variable'], axis = 1)\n",
    "nhanes_full = nhanes_full.drop(var_full_pri_2['Variable'], axis = 1)\n",
    "nhanes_full = nhanes_full.drop(var_full_pri_3['Variable'], axis = 1)\n"
   ]
  },
  {
   "cell_type": "markdown",
   "metadata": {},
   "source": [
    "**Section 2: Extract Non-Aggregated Variables**\n",
    "\n",
    "This section extracts variables that are used later in the analysis, but are not aggregated at the meal level. They are the 'eathome', participant age, and seafood species variables."
   ]
  },
  {
   "cell_type": "code",
   "execution_count": 60,
   "metadata": {},
   "outputs": [],
   "source": [
    "'''\n",
    "Step: Create age table and eathome table for merging in after aggregation\n",
    "Creates a table of unique values with each participant and their age\n",
    "'''\n",
    "#Extract age for each participant\n",
    "age_table = nhanes_full[['SEQN','age']]\n",
    "age_table = age_table.drop_duplicates()\n",
    "\n",
    "\n",
    "#Define the dataframe join key for pulling other food items consumed with seafood\n",
    "meal_key = ['SEQN', 'DR1.030Z', 'DR1.020']\n",
    "\n",
    "#Create dataframe that contains the eathome variable\n",
    "df_eathome_key = ['SEQN', 'DR1.030Z', 'DR1.020', 'eathome']\n",
    "df_eathome = nhanes_full[df_eathome_key]\n",
    "#Group by unique meal and aggregate the eathome column\n",
    "df_eathome = df_eathome.groupby(meal_key, as_index=False)['eathome'].sum()\n",
    "#If eathome was 0, remains 0. Otherwise, convert it to 1\n",
    "df_eathome['eathome'] = (df_eathome['eathome'] >= 1).astype(int)\n",
    "\n",
    "'''\n",
    "Step: Create a table with seafood species per meal.\n",
    "If a meal has more than one species, keep the one with higher PF_SEAFD_TOT value and drop others\n",
    "Each seafood meal then has one type of species for a target\n",
    "'''\n",
    "\n",
    "#Extract observations that have a seafood species\n",
    "df_sf_species = nhanes_full[nhanes_full['species'].notna()]\n",
    "#Obtain the unique meals + species\n",
    "df_sf_species= df_sf_species[['SEQN', 'DR1.030Z', 'DR1.020', 'DR1I_PF_SEAFD_TOT', 'species']]\n",
    "#Find the species with higher PF content within a meal, if there are multiple species per meal\n",
    "df_sf_species = df_sf_species.groupby(['SEQN', 'DR1.030Z', 'DR1.020', 'species'], sort=False)['DR1I_PF_SEAFD_TOT'].max()\n",
    "df_sf_species = df_sf_species.reset_index()\n",
    "df_sf_species = df_sf_species.drop(['DR1I_PF_SEAFD_TOT'], axis=1)\n",
    "#Drop duplicates\n",
    "df_sf_species = df_sf_species.drop_duplicates(['SEQN', 'DR1.030Z', 'DR1.020', 'species'])"
   ]
  },
  {
   "cell_type": "markdown",
   "metadata": {},
   "source": [
    "**Section 3: Meal Level Aggregation**\n",
    "\n",
    "This section aggregates the FPED variables to the meal level, merging in the 'eathome', 'age', and species variables at the end."
   ]
  },
  {
   "cell_type": "code",
   "execution_count": 61,
   "metadata": {},
   "outputs": [],
   "source": [
    "'''\n",
    "Step: Perform aggregation. \n",
    "Create alist of variables that is required.\n",
    "Filter the dataframe on that list and perform aggregation\n",
    "'''\n",
    "\n",
    "#Obtain list of all columns\n",
    "nhanes_full_cols = nhanes_full.columns.values.tolist()\n",
    "\n",
    "#Create a list of all the FPED columns, removing the \"DR1I_\" prefix. \n",
    "#Create a list of all columns that will be used for meal level aggregation\n",
    "fped_cols = []\n",
    "df_agg_columns = []\n",
    "for i in range(len(nhanes_full_cols)):\n",
    "    if (re.match(r\"DR1I_\", nhanes_full_cols[i])):\n",
    "        fped_cols.append(re.findall(r\"DR1I_(.*)\", nhanes_full_cols[i])[0])\n",
    "        df_agg_columns.append(re.findall(r\"DR1I_(.*)\", nhanes_full_cols[i])[0])\n",
    "\n",
    "\n",
    "\n",
    "#Add meal key to aggregation cols\n",
    "df_agg_columns.extend(meal_key)\n",
    "#Add calories to aggregation cols\n",
    "df_agg_columns.extend(['DR1IKCAL'])\n",
    "\n",
    "\n",
    "#Remove the \"DR1I_\" prefix for simplification\n",
    "nhanes_full.columns = nhanes_full.columns.str.replace('^DR1I_', '')\n",
    "\n",
    "#Keep FPED cols,calories, and meal key\n",
    "nhanes_full= nhanes_full[df_agg_columns]\n",
    "\n",
    "#Group by meal key and aggregate on FPED columns\n",
    "nhanes_full = nhanes_full.groupby(meal_key).sum()\n",
    "\n",
    "'''\n",
    "Step: Merge in the participant age, eathome, species tables\n",
    "'''\n",
    "\n",
    "#Merge in the eathome variable\n",
    "nhanes_full = nhanes_full.merge(df_eathome, how='left', on=meal_key)\n",
    "#Merge in the participant's age\n",
    "nhanes_full = nhanes_full.merge(age_table, how='left', on=['SEQN'])\n",
    "#Merge in the seafood species\n",
    "nhanes_full = nhanes_full.merge(df_sf_species, how='left', on=meal_key)"
   ]
  },
  {
   "cell_type": "code",
   "execution_count": 62,
   "metadata": {},
   "outputs": [
    {
     "name": "stdout",
     "output_type": "stream",
     "text": [
      "The number of total observations at this step is: 311002\n",
      "The number of seafood meal observations at this step is: 9505\n",
      "The number of non seafood meal observations at this step is: 301497\n"
     ]
    }
   ],
   "source": [
    "#Compute dimensions of first step in meal aggregation:\n",
    "df_length = len(nhanes_full)\n",
    "df_sfd_length = len(nhanes_full[nhanes_full['PF_SEAFD_TOT'] > 0])\n",
    "df_non_sfd_length = len(nhanes_full[nhanes_full['PF_SEAFD_TOT'] == 0])\n",
    "print(\"The number of total observations at this step is: \"+str(df_length))\n",
    "print(\"The number of seafood meal observations at this step is: \"+str(df_sfd_length))\n",
    "print(\"The number of non seafood meal observations at this step is: \"+str(df_non_sfd_length))"
   ]
  },
  {
   "cell_type": "markdown",
   "metadata": {},
   "source": [
    "**Section 4: Obtain Meals of Interest**\n",
    "\n",
    "This section selects the meals of interest, in this case they are lunch and dinner. Some meal names are in Spanish, and they are included based on a translation."
   ]
  },
  {
   "cell_type": "code",
   "execution_count": 63,
   "metadata": {},
   "outputs": [],
   "source": [
    "'''\n",
    "Step: Keep only meals that are in the lunch or dinner category\n",
    "'''\n",
    "\n",
    "#Create meal name variable based on lookup, mapping from CDC source\n",
    "meal_name_lookup = {1: 'Breakfast', 2: 'Lunch', 3: 'Dinner', 4: 'Supper', 5:'Brunch', 6:'Snack',\n",
    "                    7: 'Drink', 8: 'Infant Feeding', 9: 'Extended consumption', 10: 'Desayano',\n",
    "                    11: 'Almuerzo', 12: 'Comida', 13: 'Merienda', 14: 'Cena',15: 'Enter comida',\n",
    "                    16: 'Botana', 17: 'Bocadillo', 18: 'Tentempie', 19:'Bebida', 91: 'Other'}\n",
    "\n",
    "#Add meal name to dataframe\n",
    "nhanes_full['Meal_Name'] = nhanes_full['DR1.030Z'].map(meal_name_lookup)\n",
    "\n",
    "#Obtain the meals of interest\n",
    "meal_name_filter = ['Lunch', 'Dinner', 'Supper', 'Brunch', 'Almuerzo', 'Comida', 'Cena', 'Enter comida']\n",
    "\n",
    "#Keep only the meals of interest\n",
    "nhanes_full = nhanes_full[nhanes_full['Meal_Name'].isin(meal_name_filter)]"
   ]
  },
  {
   "cell_type": "code",
   "execution_count": 64,
   "metadata": {},
   "outputs": [
    {
     "name": "stdout",
     "output_type": "stream",
     "text": [
      "The number of total observations at this step is: 103592\n",
      "The number of seafood meal observations at this step is: 8588\n",
      "The number of non seafood meal observations at this step is: 95004\n"
     ]
    }
   ],
   "source": [
    "#Compute dimensions of first step in meal aggregation:\n",
    "df_length = len(nhanes_full)\n",
    "df_sfd_length = len(nhanes_full[nhanes_full['PF_SEAFD_TOT'] > 0])\n",
    "df_non_sfd_length = len(nhanes_full[nhanes_full['PF_SEAFD_TOT'] == 0])\n",
    "print(\"The number of total observations at this step is: \"+str(df_length))\n",
    "print(\"The number of seafood meal observations at this step is: \"+str(df_sfd_length))\n",
    "print(\"The number of non seafood meal observations at this step is: \"+str(df_non_sfd_length))"
   ]
  },
  {
   "cell_type": "markdown",
   "metadata": {},
   "source": [
    "**Section 5: Create New Variables**\n",
    "\n",
    "This section creates new variables of interest, based on the existing data. The seafood meal class is created here, along with a category for the meal size. Meals that contain both seafood and meat are re-classified based on a seafood to meat quantity ratio of 1.5 to 1. If the ratio is between 1.5 and the inverse (1/1.5), those meals are dropped because they cannot be classified as either seafood or non-seafood."
   ]
  },
  {
   "cell_type": "code",
   "execution_count": 65,
   "metadata": {},
   "outputs": [],
   "source": [
    "'''\n",
    "Step: Create seafood meal variable, to categorize if meal has seafood\n",
    "'''\n",
    "\n",
    "#Determine if the meal has seafood in it. If yes, variable = 1, 0 otherwise\n",
    "nhanes_full['seafood_meal'] = (nhanes_full['PF_SEAFD_TOT'] > 0).astype(int)\n",
    "\n",
    "'''\n",
    "Step: Meals that contain both meat and seafood\n",
    "If meals contain both meat and sefood, then compute the ratio of seafood quantity to meat.\n",
    "If the ratio is higher than a threshold, classify as seafood meal\n",
    "If the ratio is lower than a threshold, classify as a non-seafood meal\n",
    "If the ratio is in a grey area, or between above thresholds, drop that meals altogether.\n",
    "Threshold is 1.5 seafood quantity to 1 meat for seafood class and inverse for non-seafood class\n",
    "'''\n",
    "\n",
    "#Create a separate dataframe equal to nhanes full\n",
    "df_meat_sfd = nhanes_full\n",
    "#Create meat PF variable, by subtracting the seafood total from the MPS Total\n",
    "df_meat_sfd['PF_MPS_TOTAL_NSFD'] = df_meat_sfd['PF_MPS_TOTAL'] - df_meat_sfd['PF_SEAFD_TOT']\n",
    "#Find meals that contain both meat and seafood\n",
    "df_meat_sfd = df_meat_sfd[(df_meat_sfd['PF_MPS_TOTAL_NSFD']>0)&(df_meat_sfd['PF_SEAFD_TOT']>0)]\n",
    "#Compute the seafood to meat ratio\n",
    "df_meat_sfd['seafood_meat_ratio'] = df_meat_sfd['PF_MPS_TOTAL_NSFD']/df_meat_sfd['PF_SEAFD_TOT']\n",
    "#Create a temporary class to classify based on the ratio\n",
    "df_meat_sfd.loc[df_meat_sfd['seafood_meat_ratio']>1.5, 'seafood_class'] = \"Yes\"\n",
    "df_meat_sfd.loc[df_meat_sfd['seafood_meat_ratio']<(1/1.5), 'seafood_class'] = \"No\"\n",
    "df_meat_sfd.loc[df_meat_sfd['seafood_class'].isna(), 'seafood_class'] = \"Maybe\"\n",
    "#Only keep the meal key and the new class, drop duplicates\n",
    "df_meat_sfd = df_meat_sfd[['SEQN', 'DR1.030Z', 'DR1.020', 'seafood_class']]\n",
    "df_meat_sfd = df_meat_sfd.drop_duplicates(['SEQN', 'DR1.030Z', 'DR1.020', 'seafood_class'])\n",
    "#Merge the new class into the dataframe \n",
    "nhanes_full = nhanes_full.merge(df_meat_sfd, how='left', on=meal_key)\n",
    "\n",
    "#Remove meals that are in the grey area between thresholds\n",
    "nhanes_full = nhanes_full[nhanes_full['seafood_class'] != 'Maybe']\n",
    "#Recode the seafood class based on the results from these observations\n",
    "nhanes_full.loc[nhanes_full.seafood_class == 'No', ['seafood_meal']] = 0\n",
    "#Drop the temporary class\n",
    "nhanes_full = nhanes_full.drop(['seafood_class'], axis=1)\n",
    "\n",
    "'''\n",
    "Step: Create a meal energy variable\n",
    "'''\n",
    "\n",
    "#Create meal energy category based on quantiles from KCAL\n",
    "nhanes_full.loc[nhanes_full['DR1IKCAL'] < nhanes_full['DR1IKCAL'].describe()['25%'], 'meal_energy'] = \"Low\"\n",
    "nhanes_full.loc[(nhanes_full['DR1IKCAL'] > nhanes_full['DR1IKCAL'].describe()['25%']) \n",
    "       & (nhanes_full['DR1IKCAL'] < nhanes_full['DR1IKCAL'].describe()['50%']), 'meal_energy'] = \"Medium-Low\"\n",
    "nhanes_full.loc[(nhanes_full['DR1IKCAL'] > nhanes_full['DR1IKCAL'].describe()['50%']) \n",
    "       & (nhanes_full['DR1IKCAL'] < nhanes_full['DR1IKCAL'].describe()['75%']), 'meal_energy'] = \"Medium-High\"\n",
    "nhanes_full.loc[nhanes_full['DR1IKCAL'] > nhanes_full['DR1IKCAL'].describe()['75%'], 'meal_energy'] = \"High\"\n"
   ]
  },
  {
   "cell_type": "code",
   "execution_count": 66,
   "metadata": {},
   "outputs": [
    {
     "name": "stdout",
     "output_type": "stream",
     "text": [
      "The number of total observations at this step is: 102944\n",
      "The number of seafood meal observations at this step is: 7940\n",
      "The number of non seafood meal observations at this step is: 95004\n"
     ]
    }
   ],
   "source": [
    "#Compute dimensions of first step in meal aggregation:\n",
    "df_length = len(nhanes_full)\n",
    "df_sfd_length = len(nhanes_full[nhanes_full['PF_SEAFD_TOT'] > 0])\n",
    "df_non_sfd_length = len(nhanes_full[nhanes_full['PF_SEAFD_TOT'] == 0])\n",
    "print(\"The number of total observations at this step is: \"+str(df_length))\n",
    "print(\"The number of seafood meal observations at this step is: \"+str(df_sfd_length))\n",
    "print(\"The number of non seafood meal observations at this step is: \"+str(df_non_sfd_length))"
   ]
  },
  {
   "cell_type": "markdown",
   "metadata": {},
   "source": [
    "**Section 6: Additional Observation Filters**\n",
    "\n",
    "This section filters out additional observations:\n",
    "\n",
    "1. Drop meals that are 0 calories. These meals are assumed to be water only, and therefore are not observations of interest."
   ]
  },
  {
   "cell_type": "code",
   "execution_count": 67,
   "metadata": {},
   "outputs": [],
   "source": [
    "'''\n",
    "Step: Drop meals that are 0 calories\n",
    "'''\n",
    "nhanes_full = nhanes_full[nhanes_full['DR1IKCAL']>0]"
   ]
  },
  {
   "cell_type": "code",
   "execution_count": 68,
   "metadata": {},
   "outputs": [
    {
     "name": "stdout",
     "output_type": "stream",
     "text": [
      "The number of total observations at this step is: 101963\n",
      "The number of seafood meal observations at this step is: 7940\n",
      "The number of non seafood meal observations at this step is: 94023\n"
     ]
    }
   ],
   "source": [
    "#Compute dimensions of first step in meal aggregation:\n",
    "df_length = len(nhanes_full)\n",
    "df_sfd_length = len(nhanes_full[nhanes_full['PF_SEAFD_TOT'] > 0])\n",
    "df_non_sfd_length = len(nhanes_full[nhanes_full['PF_SEAFD_TOT'] == 0])\n",
    "print(\"The number of total observations at this step is: \"+str(df_length))\n",
    "print(\"The number of seafood meal observations at this step is: \"+str(df_sfd_length))\n",
    "print(\"The number of non seafood meal observations at this step is: \"+str(df_non_sfd_length))"
   ]
  },
  {
   "cell_type": "markdown",
   "metadata": {},
   "source": [
    "2. Drop participants that are below the age of 18. Adult participants are more likely to make their own choices when it comes to food alternatives. Non-adults are not observations of interest."
   ]
  },
  {
   "cell_type": "code",
   "execution_count": 69,
   "metadata": {},
   "outputs": [],
   "source": [
    "'''\n",
    "Step: Drop meals of participants below the age of 18\n",
    "'''\n",
    "nhanes_full = nhanes_full[nhanes_full['age'] >= 18]"
   ]
  },
  {
   "cell_type": "code",
   "execution_count": 70,
   "metadata": {},
   "outputs": [
    {
     "name": "stdout",
     "output_type": "stream",
     "text": [
      "The number of total observations at this step is: 61144\n",
      "The number of seafood meal observations at this step is: 6197\n",
      "The number of non seafood meal observations at this step is: 54947\n"
     ]
    }
   ],
   "source": [
    "#Compute dimensions of first step in meal aggregation:\n",
    "df_length = len(nhanes_full)\n",
    "df_sfd_length = len(nhanes_full[nhanes_full['PF_SEAFD_TOT'] > 0])\n",
    "df_non_sfd_length = len(nhanes_full[nhanes_full['PF_SEAFD_TOT'] == 0])\n",
    "print(\"The number of total observations at this step is: \"+str(df_length))\n",
    "print(\"The number of seafood meal observations at this step is: \"+str(df_sfd_length))\n",
    "print(\"The number of non seafood meal observations at this step is: \"+str(df_non_sfd_length))"
   ]
  },
  {
   "cell_type": "markdown",
   "metadata": {},
   "source": [
    "3. Drop meals that are not made at home. It is more likely that participants who are eating outside, have less alternatives on what to eat with seafood as opposed to non-seafood. This because these choices are mostly restricted by a restaurant menu. "
   ]
  },
  {
   "cell_type": "code",
   "execution_count": 71,
   "metadata": {},
   "outputs": [],
   "source": [
    "'''\n",
    "Step: Drop meals that are not home made\n",
    "'''\n",
    "nhanes_full = nhanes_full[nhanes_full['eathome']==1]"
   ]
  },
  {
   "cell_type": "code",
   "execution_count": 72,
   "metadata": {},
   "outputs": [
    {
     "name": "stdout",
     "output_type": "stream",
     "text": [
      "The number of total observations at this step is: 41349\n",
      "The number of seafood meal observations at this step is: 3634\n",
      "The number of non seafood meal observations at this step is: 37715\n"
     ]
    }
   ],
   "source": [
    "#Compute dimensions of first step in meal aggregation:\n",
    "df_length = len(nhanes_full)\n",
    "df_sfd_length = len(nhanes_full[nhanes_full['PF_SEAFD_TOT'] > 0])\n",
    "df_non_sfd_length = len(nhanes_full[nhanes_full['PF_SEAFD_TOT'] == 0])\n",
    "print(\"The number of total observations at this step is: \"+str(df_length))\n",
    "print(\"The number of seafood meal observations at this step is: \"+str(df_sfd_length))\n",
    "print(\"The number of non seafood meal observations at this step is: \"+str(df_non_sfd_length))"
   ]
  },
  {
   "cell_type": "markdown",
   "metadata": {},
   "source": [
    "4. Drop meals that are vegeterian, ir order to compare seafood meals with meals that contain other meats."
   ]
  },
  {
   "cell_type": "code",
   "execution_count": 73,
   "metadata": {},
   "outputs": [],
   "source": [
    "'''\n",
    "Step: Drop meals that are vegeterian\n",
    "'''\n",
    "#Drop meals that do not contain any type of meat or seafood\n",
    "nhanes_full = nhanes_full[nhanes_full['PF_MPS_TOTAL'] > 0]"
   ]
  },
  {
   "cell_type": "code",
   "execution_count": 74,
   "metadata": {},
   "outputs": [
    {
     "name": "stdout",
     "output_type": "stream",
     "text": [
      "The number of total observations at this step is: 29243\n",
      "The number of seafood meal observations at this step is: 3634\n",
      "The number of non seafood meal observations at this step is: 25609\n"
     ]
    }
   ],
   "source": [
    "#Compute dimensions of first step in meal aggregation:\n",
    "df_length = len(nhanes_full)\n",
    "df_sfd_length = len(nhanes_full[nhanes_full['PF_SEAFD_TOT'] > 0])\n",
    "df_non_sfd_length = len(nhanes_full[nhanes_full['PF_SEAFD_TOT'] == 0])\n",
    "print(\"The number of total observations at this step is: \"+str(df_length))\n",
    "print(\"The number of seafood meal observations at this step is: \"+str(df_sfd_length))\n",
    "print(\"The number of non seafood meal observations at this step is: \"+str(df_non_sfd_length))"
   ]
  },
  {
   "cell_type": "markdown",
   "metadata": {},
   "source": [
    "**Section 7: Outstanding Modifications**\n",
    "\n",
    "Convert units of FPED components to a more common unit of measurement."
   ]
  },
  {
   "cell_type": "code",
   "execution_count": null,
   "metadata": {},
   "outputs": [],
   "source": []
  }
 ],
 "metadata": {
  "kernelspec": {
   "display_name": "Python 3",
   "language": "python",
   "name": "python3"
  },
  "language_info": {
   "codemirror_mode": {
    "name": "ipython",
    "version": 3
   },
   "file_extension": ".py",
   "mimetype": "text/x-python",
   "name": "python",
   "nbconvert_exporter": "python",
   "pygments_lexer": "ipython3",
   "version": "3.8.3"
  }
 },
 "nbformat": 4,
 "nbformat_minor": 4
}
