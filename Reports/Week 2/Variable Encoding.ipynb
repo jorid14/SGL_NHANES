{
 "cells": [
  {
   "cell_type": "markdown",
   "metadata": {},
   "source": [
    "**Objectives**\n",
    "\n",
    "Perform preliminary steps for structuring the dataset:\n",
    "\n",
    "1. The dataset contains 58 variables and over 800k observation points. Remove unwanted variable to reduce the size of the data set. The variables that can be immediately removed were identified in the previous week. Others can be removed along the way as necessary.\n",
    "2. Provide data encoding for some key variables, such as the survey year, meal name, and time of consumption.\n",
    "3. Obtain the correct key and the condition for seafood consumption items. There are two potential variables for this.\n"
   ]
  },
  {
   "cell_type": "code",
   "execution_count": 1,
   "metadata": {},
   "outputs": [
    {
     "name": "stdout",
     "output_type": "stream",
     "text": [
      "Survey Year NA count is 0\n",
      "Meal Name NA count is 0\n"
     ]
    }
   ],
   "source": [
    "import pandas as pd\n",
    "\n",
    "nhanes = pd.read_csv('../../Data/nhanes.csv')\n",
    "\n",
    "\n",
    "#The following variables have been deemed irrelevant for this analysis, so they are dropped.\n",
    "\n",
    "\n",
    "nhanes = nhanes.drop(['DR1IVARA', 'DR1IVB12', 'DR1ICALC', 'DR1IIRON', 'DR1IZINC', 'DR1ISELE', 'DR1IP205',\n",
    "             'DR1IP226', 'RIDRETH3', 'DR1I_PF_CUREDMEAT', 'DR1I_PF_ORGAN', 'DR1I_PF_POULT', 'DR1I_PF_MPS_TOTAL',\n",
    "             'DR1I_PF_EGGS', 'DR1I_PF_NUTSDS', 'DR1I_PF_LEGUMES', 'DR1I_PF_TOTAL', 'DR1I_D_TOTAL',\n",
    "             'DR1I_D_TOTAL', 'DR1I_D_MILK', 'DR1I_D_YOGURT', 'DR1I_D_CHEESE', 'WTDRD1_6YR'], axis=1)\n",
    "\n",
    "\n",
    "\n",
    "#Map the survey year data, based on the SDDSRVYR encoding key\n",
    "\n",
    "#Obtain description and value counts\n",
    "nhanes['SDDSRVYR'].describe()\n",
    "nhanes['SDDSRVYR'].value_counts()\n",
    "\n",
    "#Create Survey Year variable based on lookup, mapping from CDC source\n",
    "survey_year_lookup = {4: '2005-2006', 5: '2009-2010', 6: '2011-2012', 7: '2013-2014', 8:'2015-2016', 9:'2017-2018'}\n",
    "nhanes['Survey_Year'] = nhanes['SDDSRVYR'].map(survey_year_lookup)\n",
    "\n",
    "#Check for NAs\n",
    "print(\"Survey Year NA count is \"+str(nhanes['Survey_Year'].isnull().sum()))\n",
    "\n",
    "\n",
    "#Map the meal occasion data, based on the DR1.030Z encoding key\n",
    "\n",
    "#Obtain description and value counts\n",
    "nhanes['DR1.030Z'].describe()\n",
    "nhanes['DR1.030Z'].value_counts()\n",
    "\n",
    "#Create Survey Year variable based on lookup, mapping from CDC source\n",
    "meal_name_lookup = {1: 'Breakfast', 2: 'Lunch', 3: 'Dinner', 4: 'Supper', 5:'Brunch', 6:'Snack',\n",
    "                    7: 'Drink', 8: 'Infant Feeding', 9: 'Extended consumption', 10: 'Desayano',\n",
    "                    11: 'Almuerzo', 12: 'Comida', 13: 'Merienda', 14: 'Cena', 15: 'Enter comida',\n",
    "                    16: 'Botana', 17: 'Bocadillo', 18: 'Tentempie', 19: 'Bebida', 91: 'Other'}\n",
    "\n",
    "\n",
    "nhanes['Meal_Name'] = nhanes['DR1.030Z'].map(meal_name_lookup)\n",
    "\n",
    "#Check for NAs\n",
    "print(\"Meal Name NA count is \"+str(nhanes['Meal_Name'].isnull().sum()))"
   ]
  },
  {
   "cell_type": "code",
   "execution_count": 2,
   "metadata": {},
   "outputs": [
    {
     "data": {
      "text/plain": [
       "Dinner                  165082\n",
       "Lunch                   161393\n",
       "Breakfast               142660\n",
       "Snack                   136295\n",
       "Supper                   42739\n",
       "Drink                    40487\n",
       "Extended consumption     25242\n",
       "Infant Feeding           18184\n",
       "Cena                     18065\n",
       "Desayano                 16198\n",
       "Comida                   15428\n",
       "Almuerzo                 13211\n",
       "Merienda                  7026\n",
       "Brunch                    6602\n",
       "Bebida                    4958\n",
       "Botana                    3291\n",
       "Bocadillo                 2946\n",
       "Enter comida              2842\n",
       "Tentempie                  356\n",
       "Other                        7\n",
       "Name: Meal_Name, dtype: int64"
      ]
     },
     "execution_count": 2,
     "metadata": {},
     "output_type": "execute_result"
    }
   ],
   "source": [
    "#Meal Name Counts - Observation Level\n",
    "nhanes['Meal_Name'].value_counts()"
   ]
  },
  {
   "cell_type": "code",
   "execution_count": 3,
   "metadata": {},
   "outputs": [
    {
     "data": {
      "text/plain": [
       "2011-2012    150991\n",
       "2005-2006    146940\n",
       "2009-2010    145703\n",
       "2015-2016    131394\n",
       "2013-2014    126503\n",
       "2017-2018    121481\n",
       "Name: Survey_Year, dtype: int64"
      ]
     },
     "execution_count": 3,
     "metadata": {},
     "output_type": "execute_result"
    }
   ],
   "source": [
    "#Survey Name Counts - Observation Level\n",
    "nhanes['Survey_Year'].value_counts()"
   ]
  },
  {
   "cell_type": "markdown",
   "metadata": {},
   "source": [
    "**Meal Time Variable**\n",
    "\n",
    "The time variable can be used for validity checks on meal name, and data grouping of each subject per name. Acccoring the CDC references, the time was collected in the HHMM format. An initial description shows that the time values are in seconds."
   ]
  },
  {
   "cell_type": "code",
   "execution_count": 4,
   "metadata": {},
   "outputs": [
    {
     "data": {
      "text/plain": [
       "count    823012.000000\n",
       "mean      69462.896823\n",
       "std       17059.701708\n",
       "min       18000.000000\n",
       "25%       55800.000000\n",
       "50%       68400.000000\n",
       "75%       84600.000000\n",
       "max      104340.000000\n",
       "Name: DR1.020, dtype: float64"
      ]
     },
     "execution_count": 4,
     "metadata": {},
     "output_type": "execute_result"
    }
   ],
   "source": [
    "nhanes['DR1.020'].describe()"
   ]
  },
  {
   "cell_type": "markdown",
   "metadata": {},
   "source": [
    "It seems like the data was collected on a 24 hr cycle starting at 5AM and finishing at 4:59AM the next day."
   ]
  },
  {
   "cell_type": "code",
   "execution_count": 5,
   "metadata": {},
   "outputs": [
    {
     "data": {
      "text/plain": [
       "5.0"
      ]
     },
     "execution_count": 5,
     "metadata": {},
     "output_type": "execute_result"
    }
   ],
   "source": [
    "#Find time minimum and convert seconds to hours\n",
    "nhanes['DR1.020'].min()/60/60"
   ]
  },
  {
   "cell_type": "code",
   "execution_count": 6,
   "metadata": {},
   "outputs": [
    {
     "data": {
      "text/plain": [
       "28.983333333333334"
      ]
     },
     "execution_count": 6,
     "metadata": {},
     "output_type": "execute_result"
    }
   ],
   "source": [
    "#Find time maximum and convert seconds to hours\n",
    "nhanes['DR1.020'].max()/60/60"
   ]
  },
  {
   "cell_type": "markdown",
   "metadata": {},
   "source": [
    "The code below removes the apparent 5AM time collection bias and creates a time variable in a pandas time format. "
   ]
  },
  {
   "cell_type": "code",
   "execution_count": 7,
   "metadata": {},
   "outputs": [],
   "source": [
    "#Create a time column, in a pandas time format\n",
    "\n",
    "#Remove the 5AM bias from the value in seconds\n",
    "def remove_time_bias(time_in):\n",
    "    midnight = 24*60*60\n",
    "    if (time_in >= midnight):\n",
    "        time_post = time_in - midnight\n",
    "    else: time_post = time_in\n",
    "    return round(time_post)\n",
    "\n",
    "#Create time variable and convert to time formatefrom DR1.020\n",
    "nhanes['Time'] = nhanes['DR1.020'].apply(remove_time_bias)\n",
    "nhanes['Time'] = nhanes['Time'].astype(int)\n",
    "nhanes['Time'] = nhanes['Time'].round().apply(pd.to_timedelta, unit='s')"
   ]
  },
  {
   "cell_type": "markdown",
   "metadata": {},
   "source": [
    "Determine the key for filtering on seafood meals. The two options are DR1I_PF_SEAFD_TOT, which has the amount of seafood consumed in grams and species, which is populated if the item is seafood. First check if there are any rows where DR1I_PF_SEAFD_TOT is not 0 and species is NA (not seafood). This filters yields rows where all DR1I_PF_SEAFD_TOT are NA. "
   ]
  },
  {
   "cell_type": "code",
   "execution_count": 10,
   "metadata": {},
   "outputs": [
    {
     "name": "stdout",
     "output_type": "stream",
     "text": [
      "Unnamed: 0           5098\n",
      "SEQN                 5098\n",
      "WTDRD1               5098\n",
      "DR1ILINE             5098\n",
      "DR1FS                   0\n",
      "DR1IFDCD             5098\n",
      "DR1IGRMS                0\n",
      "DR1.020              5098\n",
      "DR1.030Z             5098\n",
      "DR1.040Z                0\n",
      "DR1IKCAL                0\n",
      "DR1IPROT                0\n",
      "DR1IPFAT                0\n",
      "RIAGENDR             5098\n",
      "RIDAGEYR             5098\n",
      "RIDRETH1             5098\n",
      "DMDEDUC3                0\n",
      "DMDEDUC2                0\n",
      "DMDHHSIZ             5098\n",
      "DMDFMSIZ             5098\n",
      "INDHHIN2             5068\n",
      "INDFMIN2             5060\n",
      "INDFMPIR             4741\n",
      "SDMVPSU              5098\n",
      "SDMVSTRA             5098\n",
      "DESCRIPTION          5098\n",
      "DR1I_PF_SEAFD_HI        0\n",
      "DR1I_PF_SEAFD_LOW       0\n",
      "DR1I_PF_MEAT            0\n",
      "DR1I_PF_SOY             0\n",
      "SDDSRVYR             5098\n",
      "DR1I_PF_SEAFD_TOT       0\n",
      "DR1I_PF_MEAT_TOT        0\n",
      "species                 0\n",
      "species_code            0\n",
      "DR1.030Z_2           5098\n",
      "Survey_Year          5098\n",
      "Meal_Name            5098\n",
      "Time                 5098\n",
      "dtype: int64\n"
     ]
    },
    {
     "data": {
      "text/plain": [
       "1001     NaN\n",
       "1002     NaN\n",
       "1004     NaN\n",
       "1005     NaN\n",
       "1008     NaN\n",
       "          ..\n",
       "822185   NaN\n",
       "822186   NaN\n",
       "822187   NaN\n",
       "822188   NaN\n",
       "822189   NaN\n",
       "Name: DR1I_PF_SEAFD_TOT, Length: 5098, dtype: float64"
      ]
     },
     "execution_count": 10,
     "metadata": {},
     "output_type": "execute_result"
    }
   ],
   "source": [
    "#Check if there are rows where DR1I_PF_SEAFD_TOT is not 0 and species is NA\n",
    "filtered_df1 = nhanes[nhanes['DR1I_PF_SEAFD_TOT'] !=0 ]\n",
    "filtered_df2 = filtered_df1[filtered_df1['species'].isnull()]\n",
    "filtered_df2['DR1I_PF_SEAFD_TOT']"
   ]
  },
  {
   "cell_type": "markdown",
   "metadata": {},
   "source": [
    "Next check if there are any values where DR1I_PF_SEAFD_TOT is 0, but species is populated with a fish. There are 189 rows that meet this condition, meaning that not all rows that have a species populated have a seafood consumption that is greater than 0 grams. Therefore, it is safest to use DR1I_PF_SEAFD_TOT where it is not 0 or NA as the key for seafood items. That is because this variable is part of the actual survey."
   ]
  },
  {
   "cell_type": "code",
   "execution_count": 11,
   "metadata": {
    "scrolled": true
   },
   "outputs": [
    {
     "data": {
      "text/plain": [
       "23764     0.0\n",
       "47269     0.0\n",
       "52541     0.0\n",
       "59989     0.0\n",
       "59996     0.0\n",
       "         ... \n",
       "815468    0.0\n",
       "817023    0.0\n",
       "818396    0.0\n",
       "818397    0.0\n",
       "822484    0.0\n",
       "Name: DR1I_PF_SEAFD_TOT, Length: 189, dtype: float64"
      ]
     },
     "execution_count": 11,
     "metadata": {},
     "output_type": "execute_result"
    }
   ],
   "source": [
    "filtered_df1 = nhanes[nhanes['DR1I_PF_SEAFD_TOT'] == 0 ]\n",
    "filtered_df2 = filtered_df1[filtered_df1['species'].notnull()]\n",
    "filtered_df2['DR1I_PF_SEAFD_TOT']"
   ]
  },
  {
   "cell_type": "markdown",
   "metadata": {},
   "source": [
    "Apply the identified condition to the key and obtain statistics to ensure that there are no values that seem erroneous. There is a min of 0.01 and a max of 44.12, so no erroneous values are apparent."
   ]
  },
  {
   "cell_type": "code",
   "execution_count": 13,
   "metadata": {},
   "outputs": [
    {
     "data": {
      "text/plain": [
       "count    9789.000000\n",
       "mean        2.729516\n",
       "std         3.011448\n",
       "min         0.010000\n",
       "25%         0.870000\n",
       "50%         1.820000\n",
       "75%         3.490000\n",
       "max        44.120000\n",
       "Name: DR1I_PF_SEAFD_TOT, dtype: float64"
      ]
     },
     "execution_count": 13,
     "metadata": {},
     "output_type": "execute_result"
    }
   ],
   "source": [
    "#Apply key and obtain description, to ensure that there are no erroneous values\n",
    "filtered_df1 = nhanes[nhanes['DR1I_PF_SEAFD_TOT'] != 0 & nhanes['DR1I_PF_SEAFD_TOT'].notnull()]\n",
    "filtered_df1['DR1I_PF_SEAFD_TOT'].describe()"
   ]
  },
  {
   "cell_type": "markdown",
   "metadata": {},
   "source": [
    "**Conclusions**\n",
    "\n",
    "1. Preliminary removal of 23 variables that are identified as not required from previous week. More variables can be removed as the project progresses, to reduce dataset for more complex analysis tasks.\n",
    "2. Three new variables added as encoders for the following:\n",
    "    - Survey Year\n",
    "    - Meal Name\n",
    "    - Time Conversion: This was done after investigations about time format in the dataset. It seems apparent that the collected time uses a 24H starting at 5AM. So the 5AM time bias is removed and conversion to time format is performed. This operation is a bit time consuming and could be best performed once non-seafood observations are removed.\n",
    "3. The safest variable to use as a key for filtering out seafood items is DR1I_PF_SEAFD_TOT and the condition is that it is not 0 and not NA."
   ]
  }
 ],
 "metadata": {
  "kernelspec": {
   "display_name": "Python 3",
   "language": "python",
   "name": "python3"
  },
  "language_info": {
   "codemirror_mode": {
    "name": "ipython",
    "version": 3
   },
   "file_extension": ".py",
   "mimetype": "text/x-python",
   "name": "python",
   "nbconvert_exporter": "python",
   "pygments_lexer": "ipython3",
   "version": "3.8.3"
  }
 },
 "nbformat": 4,
 "nbformat_minor": 4
}
