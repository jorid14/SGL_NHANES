{
 "cells": [
  {
   "cell_type": "markdown",
   "metadata": {},
   "source": [
    "Objective:\n",
    "\n",
    "Perform preliminary steps for structuring the dataset:\n",
    "\n",
    "1. The dataset contains 58 variables and over 800k observation points. Remove unwanted variable to reduce the size of the data set. The variables that can be immediately removed were identified in the previous week. Other can be removed along the way as necessary.\n",
    "2. Provide data encoding for some key variables, such as the survey year and meal description.\n"
   ]
  },
  {
   "cell_type": "code",
   "execution_count": 3,
   "metadata": {},
   "outputs": [
    {
     "name": "stdout",
     "output_type": "stream",
     "text": [
      "Survey Year NA count is 0\n",
      "Meal Name NA count is 0\n"
     ]
    }
   ],
   "source": [
    "import pandas as pd\n",
    "\n",
    "nhanes = pd.read_csv('../../Data/nhanes.csv')\n",
    "\n",
    "\n",
    "#The following variables have been deemed irrelevant for this analysis, so they are dropped.\n",
    "\n",
    "\n",
    "nhanes = nhanes.drop(['DR1IVARA', 'DR1IVB12', 'DR1ICALC', 'DR1IIRON', 'DR1IZINC', 'DR1ISELE', 'DR1IP205',\n",
    "             'DR1IP226', 'RIDRETH3', 'DR1I_PF_CUREDMEAT', 'DR1I_PF_ORGAN', 'DR1I_PF_POULT', 'DR1I_PF_MPS_TOTAL',\n",
    "             'DR1I_PF_EGGS', 'DR1I_PF_NUTSDS', 'DR1I_PF_LEGUMES', 'DR1I_PF_TOTAL', 'DR1I_D_TOTAL',\n",
    "             'DR1I_D_TOTAL', 'DR1I_D_MILK', 'DR1I_D_YOGURT', 'DR1I_D_CHEESE', 'WTDRD1_6YR'], axis=1)\n",
    "\n",
    "\n",
    "\n",
    "#Map the survey year data, based on the SDDSRVYR encoding key\n",
    "\n",
    "#Obtain description and value counts\n",
    "nhanes['SDDSRVYR'].describe()\n",
    "nhanes['SDDSRVYR'].value_counts()\n",
    "\n",
    "#Create Survey Year variable based on lookup, mapping from CDC source\n",
    "survey_year_lookup = {4: '2005-2006', 5: '2009-2010', 6: '2011-2012', 7: '2013-2014', 8:'2015-2016', 9:'2017-2018'}\n",
    "nhanes['Survey_Year'] = nhanes['SDDSRVYR'].map(survey_year_lookup)\n",
    "\n",
    "#Check for NAs\n",
    "print(\"Survey Year NA count is \"+str(nhanes['Survey_Year'].isnull().sum()))\n",
    "\n",
    "\n",
    "#Map the meal occasion data, based on the DR1.030Z encoding key\n",
    "\n",
    "#Obtain description and value counts\n",
    "nhanes['DR1.030Z'].describe()\n",
    "nhanes['DR1.030Z'].value_counts()\n",
    "\n",
    "#Create Survey Year variable based on lookup, mapping from CDC source\n",
    "meal_name_lookup = {1: 'Breakfast', 2: 'Lunch', 3: 'Dinner', 4: 'Supper', 5:'Brunch', 6:'Snack',\n",
    "                    7: 'Drink', 8: 'Infant Feeding', 9: 'Extended consumption', 10: 'Desayano',\n",
    "                    11: 'Almuerzo', 12: 'Comida', 13: 'Merienda', 14: 'Cena', 15: 'Enter comida',\n",
    "                    16: 'Botana', 17: 'Bocadillo', 18: 'Tentempie', 19: 'Bebida', 91: 'Other'}\n",
    "\n",
    "\n",
    "nhanes['Meal_Name'] = nhanes['DR1.030Z'].map(meal_name_lookup)\n",
    "\n",
    "#Check for NAs\n",
    "print(\"Meal Name NA count is \"+str(nhanes['Meal_Name'].isnull().sum()))"
   ]
  },
  {
   "cell_type": "code",
   "execution_count": 4,
   "metadata": {},
   "outputs": [
    {
     "data": {
      "text/plain": [
       "Dinner                  165082\n",
       "Lunch                   161393\n",
       "Breakfast               142660\n",
       "Snack                   136295\n",
       "Supper                   42739\n",
       "Drink                    40487\n",
       "Extended consumption     25242\n",
       "Infant Feeding           18184\n",
       "Cena                     18065\n",
       "Desayano                 16198\n",
       "Comida                   15428\n",
       "Almuerzo                 13211\n",
       "Merienda                  7026\n",
       "Brunch                    6602\n",
       "Bebida                    4958\n",
       "Botana                    3291\n",
       "Bocadillo                 2946\n",
       "Enter comida              2842\n",
       "Tentempie                  356\n",
       "Other                        7\n",
       "Name: Meal_Name, dtype: int64"
      ]
     },
     "execution_count": 4,
     "metadata": {},
     "output_type": "execute_result"
    }
   ],
   "source": [
    "#Meal Name Counts - Observation Level\n",
    "nhanes['Meal_Name'].value_counts()"
   ]
  },
  {
   "cell_type": "code",
   "execution_count": 5,
   "metadata": {},
   "outputs": [
    {
     "data": {
      "text/plain": [
       "2011-2012    150991\n",
       "2005-2006    146940\n",
       "2009-2010    145703\n",
       "2015-2016    131394\n",
       "2013-2014    126503\n",
       "2017-2018    121481\n",
       "Name: Survey_Year, dtype: int64"
      ]
     },
     "execution_count": 5,
     "metadata": {},
     "output_type": "execute_result"
    }
   ],
   "source": [
    "#Survey Name Counts - Observation Level\n",
    "nhanes['Survey_Year'].value_counts()"
   ]
  },
  {
   "cell_type": "code",
   "execution_count": null,
   "metadata": {},
   "outputs": [],
   "source": []
  }
 ],
 "metadata": {
  "kernelspec": {
   "display_name": "Python 3",
   "language": "python",
   "name": "python3"
  },
  "language_info": {
   "codemirror_mode": {
    "name": "ipython",
    "version": 3
   },
   "file_extension": ".py",
   "mimetype": "text/x-python",
   "name": "python",
   "nbconvert_exporter": "python",
   "pygments_lexer": "ipython3",
   "version": "3.8.3"
  }
 },
 "nbformat": 4,
 "nbformat_minor": 4
}
